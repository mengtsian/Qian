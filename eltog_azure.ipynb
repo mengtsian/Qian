{
  "cells": [
    {
      "cell_type": "markdown",
      "source": [
        "# Case"
      ],
      "metadata": {
        "nteract": {
          "transient": {
            "deleting": false
          }
        }
      }
    },
    {
      "cell_type": "markdown",
      "source": [
        "# Formål \n",
        "Sensor data analyse og en løsning som kan redusere risikoen for at nedrivning av kontaktledning skjer. \n",
        "# Planen\n",
        "1. Samle alle json data.\n",
        "2. Dataforbehandling (data pre-prosessing).\n",
        "3. Forskning på modeller som passer for data. \n",
        "4. Trener og tester modeller.\n",
        "5. Evaluering av modeller."
      ],
      "metadata": {
        "nteract": {
          "transient": {
            "deleting": false
          }
        }
      }
    },
    {
      "cell_type": "code",
      "source": [
        "# importerer nødvendige biblioteker.\n",
        "\n",
        "import numpy as np\n",
        "import pandas as pd \n",
        "import matplotlib.pyplot as plt\n",
        "from pyspark.sql.functions import *\n",
        "from pathlib import Path\n",
        "from sklearn.model_selection import train_test_split\n",
        "from sklearn.linear_model import LogisticRegression\n",
        "from sklearn.metrics import classification_report, accuracy_score, confusion_matrix\n",
        "from sklearn.ensemble import RandomForestClassifier\n",
        "from sklearn.ensemble import GradientBoostingClassifier\n",
        "%matplotlib inline\n"
      ],
      "outputs": [
        {
          "output_type": "display_data",
          "data": {
            "application/vnd.livy.statement-meta+json": {
              "spark_pool": "cd8c8f88-1104-4cc8-b9ee-c7507007e049",
              "session_id": "9",
              "statement_id": 7,
              "state": "finished",
              "livy_statement_state": "available",
              "queued_time": "2023-10-22T20:32:26.4427276Z",
              "session_start_time": null,
              "execution_start_time": "2023-10-22T20:32:36.5039035Z",
              "execution_finish_time": "2023-10-22T20:32:36.8583198Z",
              "spark_jobs": {
                "numbers": {
                  "SUCCEEDED": 0,
                  "FAILED": 0,
                  "UNKNOWN": 0,
                  "RUNNING": 0
                },
                "jobs": [],
                "limit": 20,
                "rule": "ALL_DESC"
              },
              "parent_msg_id": "9d933dd4-a1d4-4967-9231-8631034cc852"
            },
            "text/plain": "StatementMeta(cd8c8f88-1104-4cc8-b9ee-c7507007e049, 9, 7, Finished, Available)"
          },
          "metadata": {}
        }
      ],
      "execution_count": 2,
      "metadata": {
        "jupyter": {
          "source_hidden": false,
          "outputs_hidden": false
        },
        "nteract": {
          "transient": {
            "deleting": false
          }
        },
        "gather": {
          "logged": 1698006757992
        }
      }
    },
    {
      "cell_type": "markdown",
      "source": [
        "# 1. Samle alle json data."
      ],
      "metadata": {
        "nteract": {
          "transient": {
            "deleting": false
          }
        }
      }
    },
    {
      "cell_type": "code",
      "source": [
        "# samle alle data \n",
        "sdf = spark.read.json(\"wasbs://azureml-blobstore-3d53d74d-ad80-45bf-9413-92393f9c3b6f@sensor0552536296.blob.core.windows.net/*.json\")\n",
        "sdf = sdf.select(\"timestamp\",\"event_id\",\"train_id\",\"incident\",\"kontaktkraft\",\"hastighet\",\"location_type\",\"wind_speed\",\"wind_direction\",\"distance_to_pole\")\n",
        "sdf.show()\n"
      ],
      "outputs": [
        {
          "output_type": "display_data",
          "data": {
            "application/vnd.livy.statement-meta+json": {
              "spark_pool": "cd8c8f88-1104-4cc8-b9ee-c7507007e049",
              "session_id": "9",
              "statement_id": 8,
              "state": "finished",
              "livy_statement_state": "available",
              "queued_time": "2023-10-22T20:32:26.6074189Z",
              "session_start_time": null,
              "execution_start_time": "2023-10-22T20:32:36.9476521Z",
              "execution_finish_time": "2023-10-22T20:33:03.8990967Z",
              "spark_jobs": {
                "numbers": {
                  "SUCCEEDED": 4,
                  "FAILED": 0,
                  "UNKNOWN": 0,
                  "RUNNING": 0
                },
                "jobs": [
                  {
                    "displayName": "showString at NativeMethodAccessorImpl.java:0",
                    "dataWritten": 0,
                    "dataRead": 6888,
                    "rowCount": 21,
                    "usageDescription": "",
                    "jobId": 3,
                    "name": "showString at NativeMethodAccessorImpl.java:0",
                    "description": "Job group for statement 8:\n# samle alle data \nsdf = spark.read.json(\"wasbs://azureml-blobstore-3d53d74d-ad80-45bf-9413-92393f9c3b6f@sensor0552536296.blob.core.windows.net/*.json\")\nsdf = sdf.select(\"timestamp\",\"event_id\",\"train_id\",\"incident\",\"kontaktkraft\",\"hastighet\",\"location_type\",\"wind_speed\",\"wind_direction\",\"distance_to_pole\")\nsdf.show()\n",
                    "submissionTime": "2023-10-22T20:33:01.373GMT",
                    "completionTime": "2023-10-22T20:33:02.041GMT",
                    "stageIds": [
                      3
                    ],
                    "jobGroup": "8",
                    "status": "SUCCEEDED",
                    "numTasks": 1,
                    "numActiveTasks": 0,
                    "numCompletedTasks": 1,
                    "numSkippedTasks": 0,
                    "numFailedTasks": 0,
                    "numKilledTasks": 0,
                    "numCompletedIndices": 1,
                    "numActiveStages": 0,
                    "numCompletedStages": 1,
                    "numSkippedStages": 0,
                    "numFailedStages": 0,
                    "killedTasksSummary": {}
                  },
                  {
                    "displayName": "json at NativeMethodAccessorImpl.java:0",
                    "dataWritten": 0,
                    "dataRead": 646571,
                    "rowCount": 2000,
                    "usageDescription": "",
                    "jobId": 2,
                    "name": "json at NativeMethodAccessorImpl.java:0",
                    "description": "Job group for statement 8:\n# samle alle data \nsdf = spark.read.json(\"wasbs://azureml-blobstore-3d53d74d-ad80-45bf-9413-92393f9c3b6f@sensor0552536296.blob.core.windows.net/*.json\")\nsdf = sdf.select(\"timestamp\",\"event_id\",\"train_id\",\"incident\",\"kontaktkraft\",\"hastighet\",\"location_type\",\"wind_speed\",\"wind_direction\",\"distance_to_pole\")\nsdf.show()\n",
                    "submissionTime": "2023-10-22T20:32:53.477GMT",
                    "completionTime": "2023-10-22T20:33:00.058GMT",
                    "stageIds": [
                      2
                    ],
                    "jobGroup": "8",
                    "status": "SUCCEEDED",
                    "numTasks": 63,
                    "numActiveTasks": 0,
                    "numCompletedTasks": 63,
                    "numSkippedTasks": 0,
                    "numFailedTasks": 0,
                    "numKilledTasks": 0,
                    "numCompletedIndices": 63,
                    "numActiveStages": 0,
                    "numCompletedStages": 1,
                    "numSkippedStages": 0,
                    "numFailedStages": 0,
                    "killedTasksSummary": {}
                  },
                  {
                    "displayName": "json at NativeMethodAccessorImpl.java:0",
                    "dataWritten": 0,
                    "dataRead": 0,
                    "rowCount": 0,
                    "usageDescription": "",
                    "jobId": 1,
                    "name": "json at NativeMethodAccessorImpl.java:0",
                    "description": "Listing leaf files and directories for 2000 paths:<br/>wasbs://azureml-blobstore-3d53d74d-ad80-45bf-9413-92393f9c3b6f@sensor0552536296.blob.core.windows.net/001430ec-9610-4d44-b3a9-d343f0aa51eb.json, ...",
                    "submissionTime": "2023-10-22T20:32:48.543GMT",
                    "completionTime": "2023-10-22T20:32:51.312GMT",
                    "stageIds": [
                      1
                    ],
                    "jobGroup": "8",
                    "status": "SUCCEEDED",
                    "numTasks": 200,
                    "numActiveTasks": 0,
                    "numCompletedTasks": 200,
                    "numSkippedTasks": 0,
                    "numFailedTasks": 0,
                    "numKilledTasks": 0,
                    "numCompletedIndices": 200,
                    "numActiveStages": 0,
                    "numCompletedStages": 1,
                    "numSkippedStages": 0,
                    "numFailedStages": 0,
                    "killedTasksSummary": {}
                  },
                  {
                    "displayName": "json at NativeMethodAccessorImpl.java:0",
                    "dataWritten": 0,
                    "dataRead": 0,
                    "rowCount": 0,
                    "usageDescription": "",
                    "jobId": 0,
                    "name": "json at NativeMethodAccessorImpl.java:0",
                    "description": "Listing leaf files and directories for 2000 paths:<br/>wasbs://azureml-blobstore-3d53d74d-ad80-45bf-9413-92393f9c3b6f@sensor0552536296.blob.core.windows.net/001430ec-9610-4d44-b3a9-d343f0aa51eb.json, ...",
                    "submissionTime": "2023-10-22T20:32:38.333GMT",
                    "completionTime": "2023-10-22T20:32:46.999GMT",
                    "stageIds": [
                      0
                    ],
                    "jobGroup": "8",
                    "status": "SUCCEEDED",
                    "numTasks": 200,
                    "numActiveTasks": 0,
                    "numCompletedTasks": 200,
                    "numSkippedTasks": 0,
                    "numFailedTasks": 0,
                    "numKilledTasks": 0,
                    "numCompletedIndices": 200,
                    "numActiveStages": 0,
                    "numCompletedStages": 1,
                    "numSkippedStages": 0,
                    "numFailedStages": 0,
                    "killedTasksSummary": {}
                  }
                ],
                "limit": 20,
                "rule": "ALL_DESC"
              },
              "parent_msg_id": "a5e403c2-dd65-4c47-8f54-1c9758c0552f"
            },
            "text/plain": "StatementMeta(cd8c8f88-1104-4cc8-b9ee-c7507007e049, 9, 8, Finished, Available)"
          },
          "metadata": {}
        },
        {
          "output_type": "stream",
          "name": "stdout",
          "text": "+--------------------+--------------------+--------+--------+------------------+------------------+--------------+------------------+--------------+------------------+\n|           timestamp|            event_id|train_id|incident|      kontaktkraft|         hastighet| location_type|        wind_speed|wind_direction|  distance_to_pole|\n+--------------------+--------------------+--------+--------+------------------+------------------+--------------+------------------+--------------+------------------+\n|2023-06-28T12:16:...|03e41ff8-1569-4e5...|       4|       0|53.075336298901874|100.52045817069519|open_landscape|13.654069202674856|         270.0|21.368012904994544|\n|2023-06-28T12:15:...|0552ec24-65a9-443...|       4|       0|54.436218020050305|100.84488510632364|open_landscape|13.546852930754524|         270.0|11.103093617000004|\n|2023-06-28T12:17:...|06295cca-0f51-4f6...|       6|       0|51.590510084739215|100.81307146667811|open_landscape|13.988899016902758|         180.0|23.290145404200555|\n|2023-06-28T12:15:...|2ffa9da2-449c-47b...|       1|       1|29.430269793686712|118.40785785424853|open_landscape|3.1359657299554593|         270.0|23.468587029991003|\n|2023-06-28T12:17:...|317320c7-ebc2-48a...|       4|       0|52.379474868761214|101.59763791199846|open_landscape|13.447667471532778|         270.0|23.337681868539693|\n|2023-06-28T12:16:...|4d3989ae-96c1-4b8...|       1|       0|63.689220274235254|121.87416626916865|open_landscape|3.3676478820842672|         270.0|12.490369185870506|\n|2023-06-28T12:15:...|51f296ec-806b-4bf...|       6|       0|55.091304993343876|102.39725235268423|open_landscape|13.151845873246813|         180.0|11.499849638403939|\n|2023-06-28T12:16:...|557cfe8a-2290-4dd...|       4|       0|53.448276124878866|101.80873754020678|open_landscape|13.239522119009237|         270.0|23.199408398219887|\n|2023-06-28T12:16:...|675c7322-b2b8-4ac...|       6|       0|55.339834269990746|102.95929368504113|open_landscape|13.494626634660156|         180.0|23.421343796193636|\n|2023-06-28T12:15:...|7622cb2f-de62-4b1...|       9|       0|59.842396738276314|110.67087746030744|open_landscape|5.3039447461373355|         225.0|12.486579736743098|\n|2023-06-28T12:16:...|762ed47d-e189-4be...|       6|       1|42.914696045961456|101.54017806114675|open_landscape|13.647828212923097|         180.0|11.017505741443918|\n|2023-06-28T12:15:...|7fa0fe9d-5bd8-4a4...|       4|       0|53.826113019810165|101.46256950527786|open_landscape|14.007553427784392|         270.0|21.226325492159148|\n|2023-06-28T12:15:...|839a8685-9b15-43c...|       6|       0|54.281826168787774|101.51763568669345|open_landscape|13.316636779505455|         180.0|23.192074694153945|\n|2023-06-28T12:16:...|8cdb06d9-c8cc-454...|       4|       0|52.242544415884986|100.82698137827525|open_landscape|13.973161710544701|         270.0|12.043467123429192|\n|2023-06-28T12:16:...|8f763123-81f1-491...|       4|       0|54.228315131914414|100.31714373978859|open_landscape|13.684636365922408|         270.0|23.040302553421306|\n|2023-06-28T12:16:...|96b386e6-a940-4fd...|       4|       0|54.720110450344066|102.08900394642848|open_landscape|13.809547717077582|         270.0|11.034658479102761|\n|2023-06-28T12:16:...|a88e0dd0-79a4-4eb...|       6|       0|52.485489442653716|100.18450340941678|open_landscape|13.138146873648388|         180.0|12.165529592566932|\n|2023-06-28T12:16:...|c13fe3ab-4a56-4f4...|       4|       0|55.196434367947404|100.15061018401357|open_landscape|13.045633191039892|         270.0|12.147013803532301|\n|2023-06-28T12:17:...|c25742f8-e7c0-47f...|       6|       0|55.683742847348384|101.20984831730537|open_landscape|13.357518385736585|         180.0|11.305866178863573|\n|2023-06-28T12:16:...|dbeb322e-091a-4db...|       6|       0|53.801580369561776|102.90850592512739|open_landscape|13.191380529211816|         180.0|12.065449825140146|\n+--------------------+--------------------+--------+--------+------------------+------------------+--------------+------------------+--------------+------------------+\nonly showing top 20 rows\n\n"
        }
      ],
      "execution_count": 3,
      "metadata": {
        "gather": {
          "logged": 1698006785026
        },
        "run_control": {
          "frozen": false
        },
        "editable": true
      }
    },
    {
      "cell_type": "markdown",
      "source": [
        "# 2. Dataforbehandling"
      ],
      "metadata": {
        "nteract": {
          "transient": {
            "deleting": false
          }
        }
      }
    },
    {
      "cell_type": "code",
      "source": [
        "# endrer dato format\n",
        "df=sdf.toPandas()\n",
        "df[\"timestamp\"] = pd.to_datetime(df[\"timestamp\"], format='%Y-%m-%dT%H:%M:%S.%f')\n"
      ],
      "outputs": [
        {
          "output_type": "display_data",
          "data": {
            "application/vnd.livy.statement-meta+json": {
              "spark_pool": "cd8c8f88-1104-4cc8-b9ee-c7507007e049",
              "session_id": "9",
              "statement_id": 9,
              "state": "finished",
              "livy_statement_state": "available",
              "queued_time": "2023-10-22T20:32:26.7625045Z",
              "session_start_time": null,
              "execution_start_time": "2023-10-22T20:33:03.9737615Z",
              "execution_finish_time": "2023-10-22T20:33:14.3283193Z",
              "spark_jobs": {
                "numbers": {
                  "SUCCEEDED": 1,
                  "FAILED": 0,
                  "UNKNOWN": 0,
                  "RUNNING": 0
                },
                "jobs": [
                  {
                    "displayName": "toPandas at /tmp/ipykernel_9365/1514289311.py:2",
                    "dataWritten": 0,
                    "dataRead": 646571,
                    "rowCount": 2000,
                    "usageDescription": "",
                    "jobId": 4,
                    "name": "toPandas at /tmp/ipykernel_9365/1514289311.py:2",
                    "description": "Job group for statement 9:\n# endrer dato format\ndf=sdf.toPandas()\ndf[\"timestamp\"] = pd.to_datetime(df[\"timestamp\"], format='%Y-%m-%dT%H:%M:%S.%f')\n",
                    "submissionTime": "2023-10-22T20:33:06.176GMT",
                    "completionTime": "2023-10-22T20:33:12.988GMT",
                    "stageIds": [
                      4
                    ],
                    "jobGroup": "9",
                    "status": "SUCCEEDED",
                    "numTasks": 63,
                    "numActiveTasks": 0,
                    "numCompletedTasks": 63,
                    "numSkippedTasks": 0,
                    "numFailedTasks": 0,
                    "numKilledTasks": 0,
                    "numCompletedIndices": 63,
                    "numActiveStages": 0,
                    "numCompletedStages": 1,
                    "numSkippedStages": 0,
                    "numFailedStages": 0,
                    "killedTasksSummary": {}
                  }
                ],
                "limit": 20,
                "rule": "ALL_DESC"
              },
              "parent_msg_id": "a2ca3b8c-040f-4a61-a62a-9d46acea2100"
            },
            "text/plain": "StatementMeta(cd8c8f88-1104-4cc8-b9ee-c7507007e049, 9, 9, Finished, Available)"
          },
          "metadata": {}
        }
      ],
      "execution_count": 4,
      "metadata": {
        "jupyter": {
          "source_hidden": false,
          "outputs_hidden": false
        },
        "nteract": {
          "transient": {
            "deleting": false
          }
        },
        "gather": {
          "logged": 1698006795424
        }
      }
    },
    {
      "cell_type": "code",
      "source": [
        "# viser data og prøver å finne ut forhold innimellom de dataene. \n",
        "x = df[[\"timestamp\"]]\n",
        "y = df[\"kontaktkraft\"]\n",
        "plt.scatter(x,y)\n",
        "plt.xlabel(\"Fig 1. Kontaktkraft spredning over tid\")\n",
        "plt.ylabel(\"konkaktkfaft\")\n",
        "plt.show()"
      ],
      "outputs": [
        {
          "output_type": "display_data",
          "data": {
            "application/vnd.livy.statement-meta+json": {
              "spark_pool": "cd8c8f88-1104-4cc8-b9ee-c7507007e049",
              "session_id": "9",
              "statement_id": 10,
              "state": "finished",
              "livy_statement_state": "available",
              "queued_time": "2023-10-22T20:32:26.9124877Z",
              "session_start_time": null,
              "execution_start_time": "2023-10-22T20:33:14.4133044Z",
              "execution_finish_time": "2023-10-22T20:33:16.0561995Z",
              "spark_jobs": {
                "numbers": {
                  "SUCCEEDED": 0,
                  "FAILED": 0,
                  "UNKNOWN": 0,
                  "RUNNING": 0
                },
                "jobs": [],
                "limit": 20,
                "rule": "ALL_DESC"
              },
              "parent_msg_id": "3587711f-d347-4b19-956b-ebcccc247a2e"
            },
            "text/plain": "StatementMeta(cd8c8f88-1104-4cc8-b9ee-c7507007e049, 9, 10, Finished, Available)"
          },
          "metadata": {}
        },
        {
          "output_type": "display_data",
          "data": {
            "text/plain": "<Figure size 432x288 with 1 Axes>",
            "image/png": "[encoded data removed]"
          },
          "metadata": {
            "needs_background": "light"
          }
        }
      ],
      "execution_count": 5,
      "metadata": {
        "jupyter": {
          "source_hidden": false,
          "outputs_hidden": false
        },
        "nteract": {
          "transient": {
            "deleting": false
          }
        },
        "gather": {
          "logged": 1698006797219
        }
      }
    },
    {
      "cell_type": "code",
      "source": [
        "# Definere en funksjon til å map location_type til location_type1\n",
        "def map_location_type(location):\n",
        "    mapping = {\n",
        "        'bridge': 1,\n",
        "        'mountain': 2,  \n",
        "        'open_landscape': 3,\n",
        "        'town': 4\n",
        "    }\n",
        "    return mapping.get(location, None)  # Returnere None hvis location ikke er i mapping.\n",
        "\n",
        "\n",
        "df['location_type1'] = df['location_type'].apply(map_location_type)\n"
      ],
      "outputs": [
        {
          "output_type": "display_data",
          "data": {
            "application/vnd.livy.statement-meta+json": {
              "spark_pool": "cd8c8f88-1104-4cc8-b9ee-c7507007e049",
              "session_id": "9",
              "statement_id": 11,
              "state": "finished",
              "livy_statement_state": "available",
              "queued_time": "2023-10-22T20:32:27.0401818Z",
              "session_start_time": null,
              "execution_start_time": "2023-10-22T20:33:16.1345067Z",
              "execution_finish_time": "2023-10-22T20:33:16.495947Z",
              "spark_jobs": {
                "numbers": {
                  "SUCCEEDED": 0,
                  "FAILED": 0,
                  "UNKNOWN": 0,
                  "RUNNING": 0
                },
                "jobs": [],
                "limit": 20,
                "rule": "ALL_DESC"
              },
              "parent_msg_id": "0e751f8f-a0b2-4bb1-8abc-6cbf8b4f4fbd"
            },
            "text/plain": "StatementMeta(cd8c8f88-1104-4cc8-b9ee-c7507007e049, 9, 11, Finished, Available)"
          },
          "metadata": {}
        }
      ],
      "execution_count": 6,
      "metadata": {
        "jupyter": {
          "source_hidden": false,
          "outputs_hidden": false
        },
        "nteract": {
          "transient": {
            "deleting": false
          }
        },
        "gather": {
          "logged": 1698006797607
        }
      }
    },
    {
      "cell_type": "code",
      "source": [
        "print(df)"
      ],
      "outputs": [
        {
          "output_type": "display_data",
          "data": {
            "application/vnd.livy.statement-meta+json": {
              "spark_pool": "cd8c8f88-1104-4cc8-b9ee-c7507007e049",
              "session_id": "9",
              "statement_id": 12,
              "state": "finished",
              "livy_statement_state": "available",
              "queued_time": "2023-10-22T20:32:27.1908875Z",
              "session_start_time": null,
              "execution_start_time": "2023-10-22T20:33:16.5706319Z",
              "execution_finish_time": "2023-10-22T20:33:16.9420972Z",
              "spark_jobs": {
                "numbers": {
                  "SUCCEEDED": 0,
                  "FAILED": 0,
                  "UNKNOWN": 0,
                  "RUNNING": 0
                },
                "jobs": [],
                "limit": 20,
                "rule": "ALL_DESC"
              },
              "parent_msg_id": "e1272699-1242-46e6-a72f-75ce004fe10d"
            },
            "text/plain": "StatementMeta(cd8c8f88-1104-4cc8-b9ee-c7507007e049, 9, 12, Finished, Available)"
          },
          "metadata": {}
        },
        {
          "output_type": "stream",
          "name": "stdout",
          "text": "                      timestamp                              event_id  \\\n0    2023-06-28 12:16:29.875945  03e41ff8-1569-4e59-a7d4-779d7156f654   \n1    2023-06-28 12:15:45.877945  0552ec24-65a9-4437-96b5-d7ac2ae0f5d4   \n2    2023-06-28 12:17:05.262846  06295cca-0f51-4f69-ace2-a066086be93c   \n3    2023-06-28 12:15:59.247846  2ffa9da2-449c-47b7-9624-c83cba7667fb   \n4    2023-06-28 12:17:12.551945  317320c7-ebc2-48a9-8933-17b45046289d   \n...                         ...                                   ...   \n1995 2023-06-28 12:17:12.888862  a556eac3-7f14-4e4a-9fd8-b8de67b170eb   \n1996 2023-06-28 12:15:52.376862  dd9ea3b5-c7a4-4b4b-b411-ef6445b83e90   \n1997 2023-06-28 12:16:37.056848  e7c896d1-812f-4638-97b3-00bef0edb38b   \n1998 2023-06-28 12:16:30.306848  fecceb74-b571-45eb-a27e-bad5dd69ac80   \n1999 2023-06-28 12:16:40.860848  fccb8112-deec-45ea-afd9-bd48f5a03c52   \n\n      train_id  incident  kontaktkraft   hastighet   location_type  \\\n0            4         0     53.075336  100.520458  open_landscape   \n1            4         0     54.436218  100.844885  open_landscape   \n2            6         0     51.590510  100.813071  open_landscape   \n3            1         1     29.430270  118.407858  open_landscape   \n4            4         0     52.379475  101.597638  open_landscape   \n...        ...       ...           ...         ...             ...   \n1995         8         0     53.776466   99.777057            town   \n1996         8         0     54.198929   99.346359            town   \n1997         7         0     54.051576  103.265751            town   \n1998         7         0     53.633986  103.183752            town   \n1999         7         0     52.880153  104.130561            town   \n\n      wind_speed  wind_direction  distance_to_pole  location_type1  \n0      13.654069           270.0         21.368013             3.0  \n1      13.546853           270.0         11.103094             3.0  \n2      13.988899           180.0         23.290145             3.0  \n3       3.135966           270.0         23.468587             3.0  \n4      13.447667           270.0         23.337682             3.0  \n...          ...             ...               ...             ...  \n1995    5.043451             0.0         21.330735             4.0  \n1996    5.102890             0.0         11.391783             4.0  \n1997    8.708595             0.0         23.059845             4.0  \n1998    8.991035             0.0         23.378995             4.0  \n1999    8.958185             0.0         23.133075             4.0  \n\n[2000 rows x 11 columns]\n"
        }
      ],
      "execution_count": 7,
      "metadata": {
        "jupyter": {
          "source_hidden": false,
          "outputs_hidden": false
        },
        "nteract": {
          "transient": {
            "deleting": false
          }
        },
        "gather": {
          "logged": 1698006798069
        }
      }
    },
    {
      "cell_type": "code",
      "source": [
        "x = df[[\"location_type1\"]]\n",
        "y = df[\"incident\"]\n",
        "plt.scatter(x,y)\n",
        "plt.xlabel(\"Fig 2. Incident spredning over location_type\")\n",
        "plt.ylabel(\"incident\")\n",
        "plt.show()"
      ],
      "outputs": [
        {
          "output_type": "display_data",
          "data": {
            "application/vnd.livy.statement-meta+json": {
              "spark_pool": "cd8c8f88-1104-4cc8-b9ee-c7507007e049",
              "session_id": "9",
              "statement_id": 13,
              "state": "finished",
              "livy_statement_state": "available",
              "queued_time": "2023-10-22T20:32:27.3315617Z",
              "session_start_time": null,
              "execution_start_time": "2023-10-22T20:33:17.024435Z",
              "execution_finish_time": "2023-10-22T20:33:17.4105773Z",
              "spark_jobs": {
                "numbers": {
                  "SUCCEEDED": 0,
                  "FAILED": 0,
                  "UNKNOWN": 0,
                  "RUNNING": 0
                },
                "jobs": [],
                "limit": 20,
                "rule": "ALL_DESC"
              },
              "parent_msg_id": "eb22fa0f-c703-4d71-adc9-c187a94cb61b"
            },
            "text/plain": "StatementMeta(cd8c8f88-1104-4cc8-b9ee-c7507007e049, 9, 13, Finished, Available)"
          },
          "metadata": {}
        },
        {
          "output_type": "display_data",
          "data": {
            "text/plain": "<Figure size 432x288 with 1 Axes>",
            "image/png": "[encoded data removed]"
          },
          "metadata": {
            "needs_background": "light"
          }
        }
      ],
      "execution_count": 8,
      "metadata": {
        "jupyter": {
          "source_hidden": false,
          "outputs_hidden": false
        },
        "nteract": {
          "transient": {
            "deleting": false
          }
        },
        "gather": {
          "logged": 1698006798554
        }
      }
    },
    {
      "cell_type": "code",
      "source": [
        "x = df[[\"timestamp\"]]\n",
        "y = df[\"incident\"]\n",
        "plt.scatter(x,y)\n",
        "plt.xlabel(\"Fig 3. Incident spredning over tid\")\n",
        "plt.ylabel(\"incident\")\n",
        "plt.show()"
      ],
      "outputs": [
        {
          "output_type": "display_data",
          "data": {
            "application/vnd.livy.statement-meta+json": {
              "spark_pool": "cd8c8f88-1104-4cc8-b9ee-c7507007e049",
              "session_id": "9",
              "statement_id": 14,
              "state": "finished",
              "livy_statement_state": "available",
              "queued_time": "2023-10-22T20:32:27.4411781Z",
              "session_start_time": null,
              "execution_start_time": "2023-10-22T20:33:17.4847083Z",
              "execution_finish_time": "2023-10-22T20:33:18.471907Z",
              "spark_jobs": {
                "numbers": {
                  "SUCCEEDED": 0,
                  "FAILED": 0,
                  "UNKNOWN": 0,
                  "RUNNING": 0
                },
                "jobs": [],
                "limit": 20,
                "rule": "ALL_DESC"
              },
              "parent_msg_id": "6aac5a1b-76cc-444e-9d69-95bb90d1243d"
            },
            "text/plain": "StatementMeta(cd8c8f88-1104-4cc8-b9ee-c7507007e049, 9, 14, Finished, Available)"
          },
          "metadata": {}
        },
        {
          "output_type": "display_data",
          "data": {
            "text/plain": "<Figure size 432x288 with 1 Axes>",
            "image/png": "[encoded data removed]"
          },
          "metadata": {
            "needs_background": "light"
          }
        }
      ],
      "execution_count": 9,
      "metadata": {
        "jupyter": {
          "source_hidden": false,
          "outputs_hidden": false
        },
        "nteract": {
          "transient": {
            "deleting": false
          }
        },
        "gather": {
          "logged": 1698006799571
        }
      }
    },
    {
      "cell_type": "code",
      "source": [
        "x = df[[\"timestamp\"]]\n",
        "y = df[\"hastighet\"]\n",
        "plt.scatter(x,y)\n",
        "plt.xlabel(\"Fig 4. Tog hastighet spredning over tid\")\n",
        "plt.ylabel(\"tog hastighet\")\n",
        "plt.show()"
      ],
      "outputs": [
        {
          "output_type": "display_data",
          "data": {
            "application/vnd.livy.statement-meta+json": {
              "spark_pool": "cd8c8f88-1104-4cc8-b9ee-c7507007e049",
              "session_id": "9",
              "statement_id": 15,
              "state": "finished",
              "livy_statement_state": "available",
              "queued_time": "2023-10-22T20:32:27.5712464Z",
              "session_start_time": null,
              "execution_start_time": "2023-10-22T20:33:18.5468645Z",
              "execution_finish_time": "2023-10-22T20:33:19.468297Z",
              "spark_jobs": {
                "numbers": {
                  "SUCCEEDED": 0,
                  "FAILED": 0,
                  "UNKNOWN": 0,
                  "RUNNING": 0
                },
                "jobs": [],
                "limit": 20,
                "rule": "ALL_DESC"
              },
              "parent_msg_id": "0867b548-9cd5-4118-8576-991ca9716b08"
            },
            "text/plain": "StatementMeta(cd8c8f88-1104-4cc8-b9ee-c7507007e049, 9, 15, Finished, Available)"
          },
          "metadata": {}
        },
        {
          "output_type": "display_data",
          "data": {
            "text/plain": "<Figure size 432x288 with 1 Axes>",
            "image/png": "[encoded data removed]"
          },
          "metadata": {
            "needs_background": "light"
          }
        }
      ],
      "execution_count": 10,
      "metadata": {
        "jupyter": {
          "source_hidden": false,
          "outputs_hidden": false
        },
        "nteract": {
          "transient": {
            "deleting": false
          }
        },
        "gather": {
          "logged": 1698006800638
        }
      }
    },
    {
      "cell_type": "code",
      "source": [
        "x = df[[\"timestamp\"]]\n",
        "y = df[\"wind_speed\"]\n",
        "plt.scatter(x,y)\n",
        "plt.xlabel(\"Fig 5. Wind_speed spredning over tid\")\n",
        "plt.ylabel(\"wind_speed\")\n",
        "plt.show()"
      ],
      "outputs": [
        {
          "output_type": "display_data",
          "data": {
            "application/vnd.livy.statement-meta+json": {
              "spark_pool": "cd8c8f88-1104-4cc8-b9ee-c7507007e049",
              "session_id": "9",
              "statement_id": 16,
              "state": "finished",
              "livy_statement_state": "available",
              "queued_time": "2023-10-22T20:32:27.7272967Z",
              "session_start_time": null,
              "execution_start_time": "2023-10-22T20:33:19.5628232Z",
              "execution_finish_time": "2023-10-22T20:33:20.5363378Z",
              "spark_jobs": {
                "numbers": {
                  "SUCCEEDED": 0,
                  "FAILED": 0,
                  "UNKNOWN": 0,
                  "RUNNING": 0
                },
                "jobs": [],
                "limit": 20,
                "rule": "ALL_DESC"
              },
              "parent_msg_id": "15e9043b-97d5-4f8e-b6c4-b15dec299104"
            },
            "text/plain": "StatementMeta(cd8c8f88-1104-4cc8-b9ee-c7507007e049, 9, 16, Finished, Available)"
          },
          "metadata": {}
        },
        {
          "output_type": "display_data",
          "data": {
            "text/plain": "<Figure size 432x288 with 1 Axes>",
            "image/png": "[encoded data removed]"
          },
          "metadata": {
            "needs_background": "light"
          }
        }
      ],
      "execution_count": 11,
      "metadata": {
        "jupyter": {
          "source_hidden": false,
          "outputs_hidden": false
        },
        "nteract": {
          "transient": {
            "deleting": false
          }
        },
        "gather": {
          "logged": 1698006801711
        }
      }
    },
    {
      "cell_type": "code",
      "source": [
        "x = df[[\"hastighet\"]]\n",
        "y = df[\"incident\"]\n",
        "plt.scatter(x,y)\n",
        "plt.xlabel(\"Fig 6. Incident spredning over tog hastighet\")\n",
        "plt.ylabel(\"incident\")\n",
        "plt.show()"
      ],
      "outputs": [
        {
          "output_type": "display_data",
          "data": {
            "application/vnd.livy.statement-meta+json": {
              "spark_pool": "cd8c8f88-1104-4cc8-b9ee-c7507007e049",
              "session_id": "9",
              "statement_id": 17,
              "state": "finished",
              "livy_statement_state": "available",
              "queued_time": "2023-10-22T20:32:28.0066385Z",
              "session_start_time": null,
              "execution_start_time": "2023-10-22T20:33:20.6339489Z",
              "execution_finish_time": "2023-10-22T20:33:20.9919792Z",
              "spark_jobs": {
                "numbers": {
                  "SUCCEEDED": 0,
                  "FAILED": 0,
                  "UNKNOWN": 0,
                  "RUNNING": 0
                },
                "jobs": [],
                "limit": 20,
                "rule": "ALL_DESC"
              },
              "parent_msg_id": "f4ace7db-c3b5-46f0-a8c7-f65004306058"
            },
            "text/plain": "StatementMeta(cd8c8f88-1104-4cc8-b9ee-c7507007e049, 9, 17, Finished, Available)"
          },
          "metadata": {}
        },
        {
          "output_type": "display_data",
          "data": {
            "text/plain": "<Figure size 432x288 with 1 Axes>",
            "image/png": "[encoded data removed]"
          },
          "metadata": {
            "needs_background": "light"
          }
        }
      ],
      "execution_count": 12,
      "metadata": {
        "jupyter": {
          "source_hidden": false,
          "outputs_hidden": false
        },
        "nteract": {
          "transient": {
            "deleting": false
          }
        },
        "gather": {
          "logged": 1698006802135
        }
      }
    },
    {
      "cell_type": "code",
      "source": [
        "x = df[[\"wind_speed\"]]\n",
        "y = df[\"incident\"]\n",
        "plt.scatter(x,y)\n",
        "plt.xlabel(\"Fig 7. Incident spredning over wind_speed\")\n",
        "plt.ylabel(\"incident\")\n",
        "plt.show()"
      ],
      "outputs": [
        {
          "output_type": "display_data",
          "data": {
            "application/vnd.livy.statement-meta+json": {
              "spark_pool": "cd8c8f88-1104-4cc8-b9ee-c7507007e049",
              "session_id": "9",
              "statement_id": 18,
              "state": "finished",
              "livy_statement_state": "available",
              "queued_time": "2023-10-22T20:32:28.1336171Z",
              "session_start_time": null,
              "execution_start_time": "2023-10-22T20:33:21.0775245Z",
              "execution_finish_time": "2023-10-22T20:33:22.0803079Z",
              "spark_jobs": {
                "numbers": {
                  "SUCCEEDED": 0,
                  "FAILED": 0,
                  "UNKNOWN": 0,
                  "RUNNING": 0
                },
                "jobs": [],
                "limit": 20,
                "rule": "ALL_DESC"
              },
              "parent_msg_id": "89271a3f-c180-4add-940c-6bc701b9da90"
            },
            "text/plain": "StatementMeta(cd8c8f88-1104-4cc8-b9ee-c7507007e049, 9, 18, Finished, Available)"
          },
          "metadata": {}
        },
        {
          "output_type": "display_data",
          "data": {
            "text/plain": "<Figure size 432x288 with 1 Axes>",
            "image/png": "[encoded data removed]"
          },
          "metadata": {
            "needs_background": "light"
          }
        }
      ],
      "execution_count": 13,
      "metadata": {
        "jupyter": {
          "source_hidden": false,
          "outputs_hidden": false
        },
        "nteract": {
          "transient": {
            "deleting": false
          }
        },
        "gather": {
          "logged": 1698006803258
        }
      }
    },
    {
      "cell_type": "code",
      "source": [
        "x = df[[\"wind_speed\"]]\n",
        "y = df[\"kontaktkraft\"]\n",
        "plt.scatter(x,y)\n",
        "plt.xlabel(\"Fig 8. Kontaktkraft spredning over wind_speed\")\n",
        "plt.ylabel(\"kontaktkraft\")\n",
        "plt.show()"
      ],
      "outputs": [
        {
          "output_type": "display_data",
          "data": {
            "application/vnd.livy.statement-meta+json": {
              "spark_pool": "cd8c8f88-1104-4cc8-b9ee-c7507007e049",
              "session_id": "9",
              "statement_id": 19,
              "state": "finished",
              "livy_statement_state": "available",
              "queued_time": "2023-10-22T20:32:28.2846294Z",
              "session_start_time": null,
              "execution_start_time": "2023-10-22T20:33:22.1727305Z",
              "execution_finish_time": "2023-10-22T20:33:22.5662195Z",
              "spark_jobs": {
                "numbers": {
                  "SUCCEEDED": 0,
                  "FAILED": 0,
                  "UNKNOWN": 0,
                  "RUNNING": 0
                },
                "jobs": [],
                "limit": 20,
                "rule": "ALL_DESC"
              },
              "parent_msg_id": "6e0a8a7e-f39e-492c-b5dd-576c0f17829e"
            },
            "text/plain": "StatementMeta(cd8c8f88-1104-4cc8-b9ee-c7507007e049, 9, 19, Finished, Available)"
          },
          "metadata": {}
        },
        {
          "output_type": "display_data",
          "data": {
            "text/plain": "<Figure size 432x288 with 1 Axes>",
            "image/png": "[encoded data removed]"
          },
          "metadata": {
            "needs_background": "light"
          }
        }
      ],
      "execution_count": 14,
      "metadata": {
        "jupyter": {
          "source_hidden": false,
          "outputs_hidden": false
        },
        "nteract": {
          "transient": {
            "deleting": false
          }
        },
        "gather": {
          "logged": 1698006803748
        }
      }
    },
    {
      "cell_type": "code",
      "source": [
        "x = df[[\"hastighet\"]]\n",
        "y = df[\"kontaktkraft\"]\n",
        "plt.scatter(x,y)\n",
        "plt.xlabel(\"Fig 9. Kontaktkraft spredning over tog hastighet\")\n",
        "plt.ylabel(\"kontaktkraft\")\n",
        "plt.show()"
      ],
      "outputs": [
        {
          "output_type": "display_data",
          "data": {
            "application/vnd.livy.statement-meta+json": {
              "spark_pool": "cd8c8f88-1104-4cc8-b9ee-c7507007e049",
              "session_id": "9",
              "statement_id": 20,
              "state": "finished",
              "livy_statement_state": "available",
              "queued_time": "2023-10-22T20:32:28.4296522Z",
              "session_start_time": null,
              "execution_start_time": "2023-10-22T20:33:22.6638003Z",
              "execution_finish_time": "2023-10-22T20:33:23.6841106Z",
              "spark_jobs": {
                "numbers": {
                  "SUCCEEDED": 0,
                  "FAILED": 0,
                  "UNKNOWN": 0,
                  "RUNNING": 0
                },
                "jobs": [],
                "limit": 20,
                "rule": "ALL_DESC"
              },
              "parent_msg_id": "d175b73f-79be-4bd1-9e17-92c951d5d310"
            },
            "text/plain": "StatementMeta(cd8c8f88-1104-4cc8-b9ee-c7507007e049, 9, 20, Finished, Available)"
          },
          "metadata": {}
        },
        {
          "output_type": "display_data",
          "data": {
            "text/plain": "<Figure size 432x288 with 1 Axes>",
            "image/png": "[encoded data removed]"
          },
          "metadata": {
            "needs_background": "light"
          }
        }
      ],
      "execution_count": 15,
      "metadata": {
        "jupyter": {
          "source_hidden": false,
          "outputs_hidden": false
        },
        "nteract": {
          "transient": {
            "deleting": false
          }
        },
        "gather": {
          "logged": 1698006804846
        }
      }
    },
    {
      "cell_type": "code",
      "source": [
        "x = df[[\"kontaktkraft\"]]\n",
        "y = df[\"incident\"]\n",
        "plt.scatter(x,y)\n",
        "plt.xlabel(\"Fig 10. Incident spredning over kontaktfraft\")\n",
        "plt.ylabel(\"incident\")\n",
        "plt.show()"
      ],
      "outputs": [
        {
          "output_type": "display_data",
          "data": {
            "application/vnd.livy.statement-meta+json": {
              "spark_pool": "cd8c8f88-1104-4cc8-b9ee-c7507007e049",
              "session_id": "9",
              "statement_id": 21,
              "state": "finished",
              "livy_statement_state": "available",
              "queued_time": "2023-10-22T20:32:28.5745845Z",
              "session_start_time": null,
              "execution_start_time": "2023-10-22T20:33:23.7775209Z",
              "execution_finish_time": "2023-10-22T20:33:24.1749743Z",
              "spark_jobs": {
                "numbers": {
                  "SUCCEEDED": 0,
                  "FAILED": 0,
                  "UNKNOWN": 0,
                  "RUNNING": 0
                },
                "jobs": [],
                "limit": 20,
                "rule": "ALL_DESC"
              },
              "parent_msg_id": "e01ca5bf-66a9-4552-a9c2-997245aa6046"
            },
            "text/plain": "StatementMeta(cd8c8f88-1104-4cc8-b9ee-c7507007e049, 9, 21, Finished, Available)"
          },
          "metadata": {}
        },
        {
          "output_type": "display_data",
          "data": {
            "text/plain": "<Figure size 432x288 with 1 Axes>",
            "image/png": "[encoded data removed]"
          },
          "metadata": {
            "needs_background": "light"
          }
        }
      ],
      "execution_count": 16,
      "metadata": {
        "jupyter": {
          "source_hidden": false,
          "outputs_hidden": false
        },
        "nteract": {
          "transient": {
            "deleting": false
          }
        },
        "gather": {
          "logged": 1698006805296
        }
      }
    },
    {
      "cell_type": "code",
      "source": [
        "# Vi splitter data inntil to gruppe: en gruppe for data med incident = 0, en annen gruppe med incident =1.\n",
        "\n",
        "df1, df2 = df.loc[df['incident'] == 0],df.loc[df['incident'] == 1 ]\n",
        "\n",
        "xfilt1 = df1[[\"timestamp\"]]\n",
        "yfilt1 = df1[\"kontaktkraft\"]\n",
        "\n",
        "\n",
        "plt.scatter(xfilt1,yfilt1)\n",
        "plt.xlabel(\"Fig. 11. timestamp for de dataene med incident=0\")\n",
        "plt.ylabel(\"konkaktkfaft\")\n",
        "plt.show()\n",
        "\n",
        "xfilt2= df2[\"timestamp\"]\n",
        "yfilt2= df2[\"kontaktkraft\"]\n",
        "\n",
        "\n",
        "plt.scatter(xfilt2,yfilt2)\n",
        "plt.xlabel(\"Fig. 12. timestamp for de dataene med incident=1\")\n",
        "plt.ylabel(\"konkaktkfaft\")\n",
        "plt.show()"
      ],
      "outputs": [
        {
          "output_type": "display_data",
          "data": {
            "application/vnd.livy.statement-meta+json": {
              "spark_pool": "cd8c8f88-1104-4cc8-b9ee-c7507007e049",
              "session_id": "9",
              "statement_id": 22,
              "state": "finished",
              "livy_statement_state": "available",
              "queued_time": "2023-10-22T20:32:28.7034636Z",
              "session_start_time": null,
              "execution_start_time": "2023-10-22T20:33:24.2490189Z",
              "execution_finish_time": "2023-10-22T20:33:25.2499983Z",
              "spark_jobs": {
                "numbers": {
                  "SUCCEEDED": 0,
                  "FAILED": 0,
                  "UNKNOWN": 0,
                  "RUNNING": 0
                },
                "jobs": [],
                "limit": 20,
                "rule": "ALL_DESC"
              },
              "parent_msg_id": "d005e286-7d26-4dd5-bd64-d0831af4cbe5"
            },
            "text/plain": "StatementMeta(cd8c8f88-1104-4cc8-b9ee-c7507007e049, 9, 22, Finished, Available)"
          },
          "metadata": {}
        },
        {
          "output_type": "display_data",
          "data": {
            "text/plain": "<Figure size 432x288 with 1 Axes>",
            "image/png": "[encoded data removed]"
          },
          "metadata": {
            "needs_background": "light"
          }
        },
        {
          "output_type": "display_data",
          "data": {
            "text/plain": "<Figure size 432x288 with 1 Axes>",
            "image/png": "[encoded data removed]"
          },
          "metadata": {
            "needs_background": "light"
          }
        }
      ],
      "execution_count": 17,
      "metadata": {
        "jupyter": {
          "source_hidden": false,
          "outputs_hidden": false
        },
        "nteract": {
          "transient": {
            "deleting": false
          }
        },
        "gather": {
          "logged": 1698006806477
        }
      }
    },
    {
      "cell_type": "markdown",
      "source": [
        "# 3. Forskning på modeller logistiskregresjon, randomforest, gradientboosting. Disse tre klassifiseringsmodeller passer for denne data analyse.\n",
        "Logistisk regresjon er best for enkle, binære klassifiseringsproblemer med lineære beslutningsgrenser, og når enkelhet og tolkbarhet er prioritert.\n",
        "\n",
        "Random Forest og Gradient Boosting er mer egnet for komplekse klassifiseringsproblemer hvor forholdet mellom funksjonene ikke nødvendigvis er lineært.\n",
        "\n",
        "Random Forest er mer robust mot overtilpasning og krever mindre tuning, mens Gradient Boosting ofte gir høyere presisjon, men er mer utsatt for overtilpasning og krever nøye hyperparameter tuning."
      ],
      "metadata": {
        "nteract": {
          "transient": {
            "deleting": false
          }
        }
      }
    },
    {
      "cell_type": "markdown",
      "source": [
        "# 4. Trener og tester modeller."
      ],
      "metadata": {
        "nteract": {
          "transient": {
            "deleting": false
          }
        }
      }
    },
    {
      "cell_type": "code",
      "source": [
        "# enkel logistiskregresjion\n",
        "\n",
        "def kontaktkraft_incident_logistiskregresjon():\n",
        "\n",
        "    x = df[[\"kontaktkraft\"]]\n",
        "    y = df[\"incident\"]\n",
        "    \n",
        "    #forberedelse av data\n",
        "\n",
        "    x_train, x_test, y_train, y_test = train_test_split(x, y, test_size=0.3,random_state=97)\n",
        "    \n",
        "    # Initialiserer og trener en logistisk regresjonsmodell\n",
        "    model = LogisticRegression()\n",
        "    model.fit(x_train, y_train)\n",
        "\n",
        "    # Gjør prediksjoner på testsettet\n",
        "    y_pred = model.predict(x_test)\n",
        "\n",
        "    # Evaluerer modellens prestasjon\n",
        "    print(f\"Accuracy of simple logistic regression: {accuracy_score(y_test, y_pred)}\")\n",
        "    print(classification_report(y_test, y_pred))\n",
        "    print(confusion_matrix(y_test, y_pred))   "
      ],
      "outputs": [
        {
          "output_type": "display_data",
          "data": {
            "application/vnd.livy.statement-meta+json": {
              "spark_pool": "cd8c8f88-1104-4cc8-b9ee-c7507007e049",
              "session_id": "9",
              "statement_id": 23,
              "state": "finished",
              "livy_statement_state": "available",
              "queued_time": "2023-10-22T20:32:28.854223Z",
              "session_start_time": null,
              "execution_start_time": "2023-10-22T20:33:25.3251313Z",
              "execution_finish_time": "2023-10-22T20:33:25.7067955Z",
              "spark_jobs": {
                "numbers": {
                  "SUCCEEDED": 0,
                  "FAILED": 0,
                  "UNKNOWN": 0,
                  "RUNNING": 0
                },
                "jobs": [],
                "limit": 20,
                "rule": "ALL_DESC"
              },
              "parent_msg_id": "86f91773-5ccb-455b-9ceb-702947344b84"
            },
            "text/plain": "StatementMeta(cd8c8f88-1104-4cc8-b9ee-c7507007e049, 9, 23, Finished, Available)"
          },
          "metadata": {}
        }
      ],
      "execution_count": 18,
      "metadata": {
        "jupyter": {
          "source_hidden": false,
          "outputs_hidden": false
        },
        "nteract": {
          "transient": {
            "deleting": false
          }
        },
        "gather": {
          "logged": 1698006806843
        }
      }
    },
    {
      "cell_type": "code",
      "source": [
        "# enkel randomforest\n",
        "def kontaktkraft_incident_randomforest():\n",
        "    x = df[[\"kontaktkraft\"]]\n",
        "    y = df[\"incident\"]\n",
        "    \n",
        "    #forberedelse av data\n",
        "    x_train, x_test, y_train, y_test = train_test_split(x, y, test_size=0.3, random_state=97)\n",
        "    \n",
        "    # Initialiserer og trener en logistisk regresjonsmodell\n",
        "    clf = RandomForestClassifier(n_estimators=100, random_state=57)\n",
        "    clf.fit(x_train, y_train)\n",
        "    # Gjør prediksjoner på testsettet\n",
        "    y_pred = clf.predict(x_test)\n",
        "\n",
        "    # Evaluerer modellens prestasjon\n",
        "    print(f\"Accuracy of simple random forest: {accuracy_score(y_test, y_pred)}\")\n",
        "    print(classification_report(y_test, y_pred))\n",
        "    print(confusion_matrix(y_test, y_pred))"
      ],
      "outputs": [
        {
          "output_type": "display_data",
          "data": {
            "application/vnd.livy.statement-meta+json": {
              "spark_pool": "cd8c8f88-1104-4cc8-b9ee-c7507007e049",
              "session_id": "9",
              "statement_id": 24,
              "state": "finished",
              "livy_statement_state": "available",
              "queued_time": "2023-10-22T20:32:29.0077327Z",
              "session_start_time": null,
              "execution_start_time": "2023-10-22T20:33:25.796122Z",
              "execution_finish_time": "2023-10-22T20:33:26.1660896Z",
              "spark_jobs": {
                "numbers": {
                  "SUCCEEDED": 0,
                  "FAILED": 0,
                  "UNKNOWN": 0,
                  "RUNNING": 0
                },
                "jobs": [],
                "limit": 20,
                "rule": "ALL_DESC"
              },
              "parent_msg_id": "b26b684f-27dd-4a4f-b97d-6de1273a2e0c"
            },
            "text/plain": "StatementMeta(cd8c8f88-1104-4cc8-b9ee-c7507007e049, 9, 24, Finished, Available)"
          },
          "metadata": {}
        }
      ],
      "execution_count": 19,
      "metadata": {
        "jupyter": {
          "source_hidden": false,
          "outputs_hidden": false
        },
        "nteract": {
          "transient": {
            "deleting": false
          }
        },
        "gather": {
          "logged": 1698006807307
        }
      }
    },
    {
      "cell_type": "code",
      "source": [
        "from sklearn.naive_bayes import GaussianNB\n",
        "\n",
        "# enkel naive bayes\n",
        "def kontaktkraft_incident_naivebayes():\n",
        "    x = df[[\"kontaktkraft\"]]\n",
        "    y = df[\"incident\"]\n",
        "    \n",
        "    #forberedelse av data\n",
        "    x_train, x_test, y_train, y_test = train_test_split(x, y, test_size=0.3, random_state=97)\n",
        "    \n",
        "    # Initialiserer og trener en naive_bayes modell\n",
        "    gnb = GaussianNB()\n",
        "    gnb.fit(x_train, y_train)\n",
        "    # Gjør prediksjoner på testsettet\n",
        "    y_pred = gnb.predict(x_test)\n",
        "\n",
        "    # Evaluerer modellens prestasjon\n",
        "    print(f\"Accuracy of simple naive Bayes: {accuracy_score(y_test, y_pred)}\")\n",
        "    print(classification_report(y_test, y_pred))\n",
        "    print(confusion_matrix(y_test, y_pred))"
      ],
      "outputs": [
        {
          "output_type": "display_data",
          "data": {
            "application/vnd.livy.statement-meta+json": {
              "spark_pool": "cd8c8f88-1104-4cc8-b9ee-c7507007e049",
              "session_id": "9",
              "statement_id": 25,
              "state": "finished",
              "livy_statement_state": "available",
              "queued_time": "2023-10-22T20:32:29.1730022Z",
              "session_start_time": null,
              "execution_start_time": "2023-10-22T20:33:26.2432394Z",
              "execution_finish_time": "2023-10-22T20:33:26.6682837Z",
              "spark_jobs": {
                "numbers": {
                  "SUCCEEDED": 0,
                  "FAILED": 0,
                  "UNKNOWN": 0,
                  "RUNNING": 0
                },
                "jobs": [],
                "limit": 20,
                "rule": "ALL_DESC"
              },
              "parent_msg_id": "b80988ea-a5a5-4bc3-aa5e-55a80fc971b9"
            },
            "text/plain": "StatementMeta(cd8c8f88-1104-4cc8-b9ee-c7507007e049, 9, 25, Finished, Available)"
          },
          "metadata": {}
        }
      ],
      "execution_count": 20,
      "metadata": {
        "jupyter": {
          "source_hidden": false,
          "outputs_hidden": false
        },
        "nteract": {
          "transient": {
            "deleting": false
          }
        },
        "gather": {
          "logged": 1698006807831
        }
      }
    },
    {
      "cell_type": "code",
      "source": [
        "from sklearn.neighbors import KNeighborsClassifier\n",
        "\n",
        "# enkel K-nearest neighbor\n",
        "def kontaktkraft_incident_KNN():\n",
        "    x = df[[\"kontaktkraft\"]]\n",
        "    y = df[\"incident\"]\n",
        "    \n",
        "    #forberedelse av data\n",
        "    x_train, x_test, y_train, y_test = train_test_split(x, y, test_size=0.3, random_state=97)\n",
        "    \n",
        "    # Initialiserer og trener en KNN modell\n",
        "    knn = KNeighborsClassifier()\n",
        "    knn.fit(x_train, y_train)\n",
        "    \n",
        "    # Gjør prediksjoner på testsettet\n",
        "    y_pred = knn.predict(x_test)\n",
        "\n",
        "    # Evaluerer modellens prestasjon\n",
        "    print(f\"Accuracy of simple KNN: {accuracy_score(y_test, y_pred)}\")\n",
        "    print(classification_report(y_test, y_pred))\n",
        "    print(confusion_matrix(y_test, y_pred))"
      ],
      "outputs": [
        {
          "output_type": "display_data",
          "data": {
            "application/vnd.livy.statement-meta+json": {
              "spark_pool": "cd8c8f88-1104-4cc8-b9ee-c7507007e049",
              "session_id": "9",
              "statement_id": 26,
              "state": "finished",
              "livy_statement_state": "available",
              "queued_time": "2023-10-22T20:32:29.3184161Z",
              "session_start_time": null,
              "execution_start_time": "2023-10-22T20:33:26.7463249Z",
              "execution_finish_time": "2023-10-22T20:33:27.1078447Z",
              "spark_jobs": {
                "numbers": {
                  "SUCCEEDED": 0,
                  "FAILED": 0,
                  "UNKNOWN": 0,
                  "RUNNING": 0
                },
                "jobs": [],
                "limit": 20,
                "rule": "ALL_DESC"
              },
              "parent_msg_id": "327cbad9-1cac-4353-9b5b-e130b96b9259"
            },
            "text/plain": "StatementMeta(cd8c8f88-1104-4cc8-b9ee-c7507007e049, 9, 26, Finished, Available)"
          },
          "metadata": {}
        }
      ],
      "execution_count": 21,
      "metadata": {
        "jupyter": {
          "source_hidden": false,
          "outputs_hidden": false
        },
        "nteract": {
          "transient": {
            "deleting": false
          }
        },
        "gather": {
          "logged": 1698006808211
        }
      }
    },
    {
      "cell_type": "code",
      "source": [
        "from sklearn.svm import SVC\n",
        "\n",
        "def kontaktkraft_incident_svm():\n",
        "    x = df[[\"kontaktkraft\"]]\n",
        "    y = df[\"incident\"]\n",
        "    \n",
        "    #forberedelse av data\n",
        "    x_train, x_test, y_train, y_test = train_test_split(x, y, test_size=0.3, random_state=97)\n",
        "    \n",
        "    # Initialiserer og trener en enkel support vector machine modell\n",
        "    svc = SVC()\n",
        "    svc.fit(x_train, y_train)\n",
        "    \n",
        "    # Gjør prediksjoner på testsettet\n",
        "    y_pred = svc.predict(x_test)\n",
        "\n",
        "    # Evaluerer modellens prestasjon\n",
        "    print(f\"Accuracy of simple support vector machine: {accuracy_score(y_test, y_pred)}\")\n",
        "    print(classification_report(y_test, y_pred))\n",
        "    print(confusion_matrix(y_test, y_pred))"
      ],
      "outputs": [
        {
          "output_type": "display_data",
          "data": {
            "application/vnd.livy.statement-meta+json": {
              "spark_pool": "cd8c8f88-1104-4cc8-b9ee-c7507007e049",
              "session_id": "9",
              "statement_id": 40,
              "state": "finished",
              "livy_statement_state": "available",
              "queued_time": "2023-10-22T20:45:41.5261852Z",
              "session_start_time": "2023-10-22T20:45:41.5283391Z",
              "execution_start_time": "2023-10-22T20:45:47.4280671Z",
              "execution_finish_time": "2023-10-22T20:45:47.8362271Z",
              "spark_jobs": {
                "numbers": {
                  "SUCCEEDED": 0,
                  "FAILED": 0,
                  "UNKNOWN": 0,
                  "RUNNING": 0
                },
                "jobs": [],
                "limit": 20,
                "rule": "ALL_DESC"
              },
              "parent_msg_id": "26b00be4-2a53-401b-b8f4-ca43147638cf"
            },
            "text/plain": "StatementMeta(cd8c8f88-1104-4cc8-b9ee-c7507007e049, 9, 40, Finished, Available)"
          },
          "metadata": {}
        }
      ],
      "execution_count": 1,
      "metadata": {
        "jupyter": {
          "source_hidden": false,
          "outputs_hidden": false
        },
        "nteract": {
          "transient": {
            "deleting": false
          }
        },
        "gather": {
          "logged": 1698007548965
        }
      }
    },
    {
      "cell_type": "code",
      "source": [
        "# enkel gradientboosting\n",
        "def kontaktkraft_incident_gradientboosting():\n",
        "    x = df[[\"kontaktkraft\"]]\n",
        "    y = df[\"incident\"]\n",
        "    \n",
        "    #forberedelse av data\n",
        "    x_train, x_test, y_train, y_test = train_test_split(x, y, test_size=0.3, random_state=97)\n",
        "    \n",
        "    # Initialiserer og trener en gradient boosting modell\n",
        "    gbc = GradientBoostingClassifier(n_estimators=100, learning_rate=1.0, max_depth=1, random_state=97)\n",
        "    gbc.fit(x_train, y_train)\n",
        "    \n",
        "    # Gjør prediksjoner på testsettet\n",
        "    y_pred = gbc.predict(x_test)\n",
        "\n",
        "    # Evaluerer modellens prestasjon\n",
        "    print(f\"Accuracy of simple gradient boosting: {accuracy_score(y_test, y_pred)}\")\n",
        "    print(classification_report(y_test, y_pred))\n",
        "    print(confusion_matrix(y_test, y_pred))"
      ],
      "outputs": [
        {
          "output_type": "display_data",
          "data": {
            "application/vnd.livy.statement-meta+json": {
              "spark_pool": "cd8c8f88-1104-4cc8-b9ee-c7507007e049",
              "session_id": "9",
              "statement_id": 27,
              "state": "finished",
              "livy_statement_state": "available",
              "queued_time": "2023-10-22T20:32:29.444411Z",
              "session_start_time": null,
              "execution_start_time": "2023-10-22T20:33:27.1953084Z",
              "execution_finish_time": "2023-10-22T20:33:27.5401645Z",
              "spark_jobs": {
                "numbers": {
                  "SUCCEEDED": 0,
                  "FAILED": 0,
                  "UNKNOWN": 0,
                  "RUNNING": 0
                },
                "jobs": [],
                "limit": 20,
                "rule": "ALL_DESC"
              },
              "parent_msg_id": "7f89e80b-1963-41b9-9845-2df61c1eb135"
            },
            "text/plain": "StatementMeta(cd8c8f88-1104-4cc8-b9ee-c7507007e049, 9, 27, Finished, Available)"
          },
          "metadata": {}
        }
      ],
      "execution_count": 22,
      "metadata": {
        "jupyter": {
          "source_hidden": false,
          "outputs_hidden": false
        },
        "nteract": {
          "transient": {
            "deleting": false
          }
        },
        "gather": {
          "logged": 1698006808651
        }
      }
    },
    {
      "cell_type": "code",
      "source": [
        "# multippel logistikkregresjion\n",
        "def kontaktkraft_incident_logistiskregresjon2():\n",
        "\n",
        "    x = df[[\"kontaktkraft\",\"wind_speed\",\"hastighet\",\"wind_direction\" ]]\n",
        "    y = df[\"incident\"]\n",
        "    \n",
        "    #forberedelse av data\n",
        "\n",
        "    x_train, x_test, y_train, y_test = train_test_split(x, y, test_size=0.3,random_state=97)\n",
        "    \n",
        "    # Initialiserer og trener en logistisk regresjonsmodell\n",
        "    model = LogisticRegression()\n",
        "    model.fit(x_train, y_train)\n",
        "\n",
        "    # Gjør prediksjoner på testsettet\n",
        "    y_pred = model.predict(x_test)\n",
        "\n",
        "    # Evaluerer modellens prestasjon\n",
        "    print(f\"Accuracy of multiple logistic regression: {accuracy_score(y_test, y_pred)}\")\n",
        "    print(classification_report(y_test, y_pred))\n",
        "    print(confusion_matrix(y_test, y_pred))"
      ],
      "outputs": [
        {
          "output_type": "display_data",
          "data": {
            "application/vnd.livy.statement-meta+json": {
              "spark_pool": "cd8c8f88-1104-4cc8-b9ee-c7507007e049",
              "session_id": "9",
              "statement_id": 28,
              "state": "finished",
              "livy_statement_state": "available",
              "queued_time": "2023-10-22T20:32:29.568488Z",
              "session_start_time": null,
              "execution_start_time": "2023-10-22T20:33:27.6217394Z",
              "execution_finish_time": "2023-10-22T20:33:28.0060504Z",
              "spark_jobs": {
                "numbers": {
                  "SUCCEEDED": 0,
                  "FAILED": 0,
                  "UNKNOWN": 0,
                  "RUNNING": 0
                },
                "jobs": [],
                "limit": 20,
                "rule": "ALL_DESC"
              },
              "parent_msg_id": "9eab5cb8-ee68-4aa7-9fcc-c7cf0649a5cf"
            },
            "text/plain": "StatementMeta(cd8c8f88-1104-4cc8-b9ee-c7507007e049, 9, 28, Finished, Available)"
          },
          "metadata": {}
        }
      ],
      "execution_count": 23,
      "metadata": {
        "jupyter": {
          "source_hidden": false,
          "outputs_hidden": false
        },
        "nteract": {
          "transient": {
            "deleting": false
          }
        },
        "gather": {
          "logged": 1698006809095
        }
      }
    },
    {
      "cell_type": "code",
      "source": [
        "# multippel random forest\n",
        "def kontaktkraft_incident_randomforest2():\n",
        "    x = df[[\"kontaktkraft\",\"wind_speed\",\"hastighet\",\"wind_direction\"]]\n",
        "    y = df[\"incident\"]\n",
        "    \n",
        "    #forberedelse av data\n",
        "    x_train, x_test, y_train, y_test = train_test_split(x, y, test_size=0.3, random_state=97)\n",
        "    \n",
        "    # Initialiserer og trener en logistisk regresjonsmodell\n",
        "    clf = RandomForestClassifier(n_estimators=100, random_state=57)\n",
        "    clf.fit(x_train, y_train)\n",
        "    # Gjør prediksjoner på testsettet\n",
        "    y_pred = clf.predict(x_test)\n",
        "\n",
        "    # Evaluerer modellens prestasjon\n",
        "    print(f\"Accuracy of multiple random forest: {accuracy_score(y_test, y_pred)}\")\n",
        "    print(classification_report(y_test, y_pred))\n",
        "    print(confusion_matrix(y_test, y_pred))"
      ],
      "outputs": [
        {
          "output_type": "display_data",
          "data": {
            "application/vnd.livy.statement-meta+json": {
              "spark_pool": "cd8c8f88-1104-4cc8-b9ee-c7507007e049",
              "session_id": "9",
              "statement_id": 29,
              "state": "finished",
              "livy_statement_state": "available",
              "queued_time": "2023-10-22T20:32:29.7081751Z",
              "session_start_time": null,
              "execution_start_time": "2023-10-22T20:33:28.0841912Z",
              "execution_finish_time": "2023-10-22T20:33:28.4619524Z",
              "spark_jobs": {
                "numbers": {
                  "SUCCEEDED": 0,
                  "FAILED": 0,
                  "UNKNOWN": 0,
                  "RUNNING": 0
                },
                "jobs": [],
                "limit": 20,
                "rule": "ALL_DESC"
              },
              "parent_msg_id": "df0f3e9d-abea-4a57-abb9-2eaf146f223f"
            },
            "text/plain": "StatementMeta(cd8c8f88-1104-4cc8-b9ee-c7507007e049, 9, 29, Finished, Available)"
          },
          "metadata": {}
        }
      ],
      "execution_count": 24,
      "metadata": {
        "jupyter": {
          "source_hidden": false,
          "outputs_hidden": false
        },
        "nteract": {
          "transient": {
            "deleting": false
          }
        },
        "gather": {
          "logged": 1698006809542
        }
      }
    },
    {
      "cell_type": "code",
      "source": [
        "# multippel naive bayes\n",
        "def kontaktkraft_incident_naivebayes2():\n",
        "    x = df[[\"kontaktkraft\",\"wind_speed\",\"hastighet\",\"wind_direction\",\"train_id\"]]\n",
        "    y = df[\"incident\"]\n",
        "    \n",
        "    #forberedelse av data\n",
        "    x_train, x_test, y_train, y_test = train_test_split(x, y, test_size=0.3, random_state=97)\n",
        "    \n",
        "    # Initialiserer og trener en naive_bayes modell\n",
        "    gnb = GaussianNB()\n",
        "    gnb.fit(x_train, y_train)\n",
        "    # Gjør prediksjoner på testsettet\n",
        "    y_pred = gnb.predict(x_test)\n",
        "\n",
        "    # Evaluerer modellens prestasjon\n",
        "    print(f\"Accuracy of multiple naive Bayes: {accuracy_score(y_test, y_pred)}\")\n",
        "    print(classification_report(y_test, y_pred))\n",
        "    print(confusion_matrix(y_test, y_pred))"
      ],
      "outputs": [
        {
          "output_type": "display_data",
          "data": {
            "application/vnd.livy.statement-meta+json": {
              "spark_pool": "cd8c8f88-1104-4cc8-b9ee-c7507007e049",
              "session_id": "9",
              "statement_id": 30,
              "state": "finished",
              "livy_statement_state": "available",
              "queued_time": "2023-10-22T20:32:29.8353632Z",
              "session_start_time": null,
              "execution_start_time": "2023-10-22T20:33:28.5408531Z",
              "execution_finish_time": "2023-10-22T20:33:28.9692735Z",
              "spark_jobs": {
                "numbers": {
                  "SUCCEEDED": 0,
                  "FAILED": 0,
                  "UNKNOWN": 0,
                  "RUNNING": 0
                },
                "jobs": [],
                "limit": 20,
                "rule": "ALL_DESC"
              },
              "parent_msg_id": "fe83b23f-e86b-4a81-9f82-1fa26c6faf6c"
            },
            "text/plain": "StatementMeta(cd8c8f88-1104-4cc8-b9ee-c7507007e049, 9, 30, Finished, Available)"
          },
          "metadata": {}
        }
      ],
      "execution_count": 25,
      "metadata": {
        "jupyter": {
          "source_hidden": false,
          "outputs_hidden": false
        },
        "nteract": {
          "transient": {
            "deleting": false
          }
        },
        "gather": {
          "logged": 1698006810061
        }
      }
    },
    {
      "cell_type": "code",
      "source": [
        "# multippel K-nearest neighbor\n",
        "def kontaktkraft_incident_KNN2():\n",
        "    x = df[[\"kontaktkraft\",\"wind_speed\",\"hastighet\",\"wind_direction\",\"train_id\"]]\n",
        "    y = df[\"incident\"]\n",
        "    \n",
        "    #forberedelse av data\n",
        "    x_train, x_test, y_train, y_test = train_test_split(x, y, test_size=0.3, random_state=97)\n",
        "    \n",
        "    # Initialiserer og trener en KNN modell\n",
        "    knn = KNeighborsClassifier()\n",
        "    knn.fit(x_train, y_train)\n",
        "    \n",
        "    # Gjør prediksjoner på testsettet\n",
        "    y_pred = knn.predict(x_test)\n",
        "\n",
        "    # Evaluerer modellens prestasjon\n",
        "    print(f\"Accuracy of multiple KNN: {accuracy_score(y_test, y_pred)}\")\n",
        "    print(classification_report(y_test, y_pred))\n",
        "    print(confusion_matrix(y_test, y_pred))"
      ],
      "outputs": [
        {
          "output_type": "display_data",
          "data": {
            "application/vnd.livy.statement-meta+json": {
              "spark_pool": "cd8c8f88-1104-4cc8-b9ee-c7507007e049",
              "session_id": "9",
              "statement_id": 31,
              "state": "finished",
              "livy_statement_state": "available",
              "queued_time": "2023-10-22T20:32:29.966132Z",
              "session_start_time": null,
              "execution_start_time": "2023-10-22T20:33:29.055397Z",
              "execution_finish_time": "2023-10-22T20:33:29.438101Z",
              "spark_jobs": {
                "numbers": {
                  "SUCCEEDED": 0,
                  "FAILED": 0,
                  "UNKNOWN": 0,
                  "RUNNING": 0
                },
                "jobs": [],
                "limit": 20,
                "rule": "ALL_DESC"
              },
              "parent_msg_id": "38b37874-ee79-4c1e-af89-2f245e017590"
            },
            "text/plain": "StatementMeta(cd8c8f88-1104-4cc8-b9ee-c7507007e049, 9, 31, Finished, Available)"
          },
          "metadata": {}
        }
      ],
      "execution_count": 26,
      "metadata": {
        "jupyter": {
          "source_hidden": false,
          "outputs_hidden": false
        },
        "nteract": {
          "transient": {
            "deleting": false
          }
        },
        "gather": {
          "logged": 1698006810556
        }
      }
    },
    {
      "cell_type": "code",
      "source": [
        "def kontaktkraft_incident_svm2():\n",
        "    x = df[[\"kontaktkraft\",\"wind_speed\",\"hastighet\",\"wind_direction\"]]\n",
        "    y = df[\"incident\"]\n",
        "    \n",
        "    #forberedelse av data\n",
        "    x_train, x_test, y_train, y_test = train_test_split(x, y, test_size=0.3, random_state=97)\n",
        "    \n",
        "    # Initialiserer og trener en enkel support vector machine modell\n",
        "    svc = SVC()\n",
        "    svc.fit(x_train, y_train)\n",
        "    \n",
        "    # Gjør prediksjoner på testsettet\n",
        "    y_pred = svc.predict(x_test)\n",
        "\n",
        "    # Evaluerer modellens prestasjon\n",
        "    print(f\"Accuracy of multiple support vector machine: {accuracy_score(y_test, y_pred)}\")\n",
        "    print(classification_report(y_test, y_pred))\n",
        "    print(confusion_matrix(y_test, y_pred))"
      ],
      "outputs": [
        {
          "output_type": "display_data",
          "data": {
            "application/vnd.livy.statement-meta+json": {
              "spark_pool": "cd8c8f88-1104-4cc8-b9ee-c7507007e049",
              "session_id": "9",
              "statement_id": 42,
              "state": "finished",
              "livy_statement_state": "available",
              "queued_time": "2023-10-22T20:47:29.4479758Z",
              "session_start_time": null,
              "execution_start_time": "2023-10-22T20:47:29.5391633Z",
              "execution_finish_time": "2023-10-22T20:47:29.9057269Z",
              "spark_jobs": {
                "numbers": {
                  "SUCCEEDED": 0,
                  "FAILED": 0,
                  "UNKNOWN": 0,
                  "RUNNING": 0
                },
                "jobs": [],
                "limit": 20,
                "rule": "ALL_DESC"
              },
              "parent_msg_id": "b1db93cd-88a3-44d6-92e6-d8218fd9bcf2"
            },
            "text/plain": "StatementMeta(cd8c8f88-1104-4cc8-b9ee-c7507007e049, 9, 42, Finished, Available)"
          },
          "metadata": {}
        }
      ],
      "execution_count": 3,
      "metadata": {
        "jupyter": {
          "source_hidden": false,
          "outputs_hidden": false
        },
        "nteract": {
          "transient": {
            "deleting": false
          }
        },
        "gather": {
          "logged": 1698007651025
        }
      }
    },
    {
      "cell_type": "code",
      "source": [
        "# multippel gradientboosting\n",
        "def kontaktkraft_incident_gradientboosting2():\n",
        "    x = df[[\"kontaktkraft\",\"wind_speed\",\"hastighet\",\"wind_direction\"]]\n",
        "    y = df[\"incident\"]\n",
        "    \n",
        "    #forberedelse av data\n",
        "    x_train, x_test, y_train, y_test = train_test_split(x, y, test_size=0.3, random_state=97)\n",
        "    \n",
        "    # Initialiserer og trener en gradient boosting modell\n",
        "    gbc = GradientBoostingClassifier(n_estimators=100, learning_rate=1.0, max_depth=1, random_state=97)\n",
        "    gbc.fit(x_train, y_train)\n",
        "    \n",
        "    # Gjør prediksjoner på testsettet\n",
        "    y_pred = gbc.predict(x_test)\n",
        "\n",
        "    # Evaluerer modellens prestasjon\n",
        "    print(f\"Accuracy of multiple gradient boosting: {accuracy_score(y_test, y_pred)}\")\n",
        "    print(classification_report(y_test, y_pred))\n",
        "    print(confusion_matrix(y_test, y_pred))"
      ],
      "outputs": [
        {
          "output_type": "display_data",
          "data": {
            "application/vnd.livy.statement-meta+json": {
              "spark_pool": "cd8c8f88-1104-4cc8-b9ee-c7507007e049",
              "session_id": "9",
              "statement_id": 32,
              "state": "finished",
              "livy_statement_state": "available",
              "queued_time": "2023-10-22T20:32:30.0813445Z",
              "session_start_time": null,
              "execution_start_time": "2023-10-22T20:33:29.5203057Z",
              "execution_finish_time": "2023-10-22T20:33:29.8564031Z",
              "spark_jobs": {
                "numbers": {
                  "SUCCEEDED": 0,
                  "FAILED": 0,
                  "UNKNOWN": 0,
                  "RUNNING": 0
                },
                "jobs": [],
                "limit": 20,
                "rule": "ALL_DESC"
              },
              "parent_msg_id": "07512cbd-b179-476f-946b-628494e1aed4"
            },
            "text/plain": "StatementMeta(cd8c8f88-1104-4cc8-b9ee-c7507007e049, 9, 32, Finished, Available)"
          },
          "metadata": {}
        }
      ],
      "execution_count": 27,
      "metadata": {
        "jupyter": {
          "source_hidden": false,
          "outputs_hidden": false
        },
        "nteract": {
          "transient": {
            "deleting": false
          }
        },
        "gather": {
          "logged": 1698006810956
        }
      }
    },
    {
      "cell_type": "code",
      "source": [
        "if __name__ == \"__main__\":\n",
        "    kontaktkraft_incident_logistiskregresjon()\n",
        "    kontaktkraft_incident_randomforest()\n",
        "    kontaktkraft_incident_naivebayes()\n",
        "    kontaktkraft_incident_KNN()\n",
        "    kontaktkraft_incident_svm()\n",
        "    kontaktkraft_incident_gradientboosting()\n",
        "    kontaktkraft_incident_logistiskregresjon2()\n",
        "    kontaktkraft_incident_randomforest2()\n",
        "    kontaktkraft_incident_naivebayes2()\n",
        "    kontaktkraft_incident_KNN2()\n",
        "    kontaktkraft_incident_svm2()\n",
        "    kontaktkraft_incident_gradientboosting2()"
      ],
      "outputs": [
        {
          "output_type": "display_data",
          "data": {
            "application/vnd.livy.statement-meta+json": {
              "spark_pool": "cd8c8f88-1104-4cc8-b9ee-c7507007e049",
              "session_id": "9",
              "statement_id": 44,
              "state": "finished",
              "livy_statement_state": "available",
              "queued_time": "2023-10-22T20:47:50.0348149Z",
              "session_start_time": null,
              "execution_start_time": "2023-10-22T20:47:50.1242448Z",
              "execution_finish_time": "2023-10-22T20:47:51.7497375Z",
              "spark_jobs": {
                "numbers": {
                  "SUCCEEDED": 0,
                  "FAILED": 0,
                  "UNKNOWN": 0,
                  "RUNNING": 0
                },
                "jobs": [],
                "limit": 20,
                "rule": "ALL_DESC"
              },
              "parent_msg_id": "1bd87dda-5dad-4643-86a3-64da9b12bda3"
            },
            "text/plain": "StatementMeta(cd8c8f88-1104-4cc8-b9ee-c7507007e049, 9, 44, Finished, Available)"
          },
          "metadata": {}
        },
        {
          "output_type": "stream",
          "name": "stdout",
          "text": "Accuracy of simple logistic regression: 0.9733333333333334\n              precision    recall  f1-score   support\n\n           0       0.98      0.99      0.99       559\n           1       0.84      0.76      0.79        41\n\n    accuracy                           0.97       600\n   macro avg       0.91      0.87      0.89       600\nweighted avg       0.97      0.97      0.97       600\n\n[[553   6]\n [ 10  31]]\nAccuracy of simple random forest: 0.975\n              precision    recall  f1-score   support\n\n           0       0.99      0.99      0.99       559\n           1       0.81      0.83      0.82        41\n\n    accuracy                           0.97       600\n   macro avg       0.90      0.91      0.90       600\nweighted avg       0.98      0.97      0.98       600\n\n[[551   8]\n [  7  34]]\nAccuracy of simple naive Bayes: 0.9716666666666667\n              precision    recall  f1-score   support\n\n           0       0.98      0.99      0.98       559\n           1       0.88      0.68      0.77        41\n\n    accuracy                           0.97       600\n   macro avg       0.93      0.84      0.88       600\nweighted avg       0.97      0.97      0.97       600\n\n[[555   4]\n [ 13  28]]\nAccuracy of simple KNN: 0.9783333333333334\n              precision    recall  f1-score   support\n\n           0       0.99      0.99      0.99       559\n           1       0.85      0.83      0.84        41\n\n    accuracy                           0.98       600\n   macro avg       0.92      0.91      0.91       600\nweighted avg       0.98      0.98      0.98       600\n\n[[553   6]\n [  7  34]]\nAccuracy of simple support vector machine: 0.98\n              precision    recall  f1-score   support\n\n           0       0.99      0.99      0.99       559\n           1       0.85      0.85      0.85        41\n\n    accuracy                           0.98       600\n   macro avg       0.92      0.92      0.92       600\nweighted avg       0.98      0.98      0.98       600\n\n[[553   6]\n [  6  35]]\nAccuracy of simple gradient boosting: 0.935\n              precision    recall  f1-score   support\n\n           0       0.93      1.00      0.97       559\n           1       1.00      0.05      0.09        41\n\n    accuracy                           0.94       600\n   macro avg       0.97      0.52      0.53       600\nweighted avg       0.94      0.94      0.91       600\n\n[[559   0]\n [ 39   2]]\nAccuracy of multiple logistic regression: 0.98\n              precision    recall  f1-score   support\n\n           0       0.99      0.99      0.99       559\n           1       0.85      0.85      0.85        41\n\n    accuracy                           0.98       600\n   macro avg       0.92      0.92      0.92       600\nweighted avg       0.98      0.98      0.98       600\n\n[[553   6]\n [  6  35]]\nAccuracy of multiple random forest: 0.9833333333333333\n              precision    recall  f1-score   support\n\n           0       0.99      0.99      0.99       559\n           1       0.86      0.90      0.88        41\n\n    accuracy                           0.98       600\n   macro avg       0.93      0.95      0.94       600\nweighted avg       0.98      0.98      0.98       600\n\n[[553   6]\n [  4  37]]\nAccuracy of multiple naive Bayes: 0.9766666666666667\n              precision    recall  f1-score   support\n\n           0       0.99      0.99      0.99       559\n           1       0.85      0.80      0.83        41\n\n    accuracy                           0.98       600\n   macro avg       0.92      0.90      0.91       600\nweighted avg       0.98      0.98      0.98       600\n\n[[553   6]\n [  8  33]]\nAccuracy of multiple KNN: 0.98\n              precision    recall  f1-score   support\n\n           0       0.99      0.99      0.99       559\n           1       0.82      0.90      0.86        41\n\n    accuracy                           0.98       600\n   macro avg       0.91      0.94      0.92       600\nweighted avg       0.98      0.98      0.98       600\n\n[[551   8]\n [  4  37]]\nAccuracy of multiple support vector machine: 0.97\n              precision    recall  f1-score   support\n\n           0       0.98      0.99      0.98       559\n           1       0.83      0.71      0.76        41\n\n    accuracy                           0.97       600\n   macro avg       0.90      0.85      0.87       600\nweighted avg       0.97      0.97      0.97       600\n\n[[553   6]\n [ 12  29]]\nAccuracy of multiple gradient boosting: 0.935\n              precision    recall  f1-score   support\n\n           0       0.93      1.00      0.97       559\n           1       1.00      0.05      0.09        41\n\n    accuracy                           0.94       600\n   macro avg       0.97      0.52      0.53       600\nweighted avg       0.94      0.94      0.91       600\n\n[[559   0]\n [ 39   2]]\n"
        }
      ],
      "execution_count": 5,
      "metadata": {
        "jupyter": {
          "source_hidden": false,
          "outputs_hidden": false
        },
        "nteract": {
          "transient": {
            "deleting": false
          }
        },
        "gather": {
          "logged": 1698007672841
        }
      }
    },
    {
      "cell_type": "markdown",
      "source": [
        "# 5. Evaluering av modeller.\n",
        "Incident er bare avhengig av kontaktkraft. Andre faktorer som tog hastighet, wind_speed, wind_direction pavirker ikke incident. \n",
        "Det viser at logistikkregresjon, randomforest, naive bayes, K-nearest neighbor, support vector machine passer bedre for analyse med nøyaktighet 97.3%, 97.5%, 97.2%, 97.8%, 98% enn gradientboosting med 93.5%."
      ],
      "metadata": {
        "nteract": {
          "transient": {
            "deleting": false
          }
        }
      }
    }
  ],
  "metadata": {
    "kernelspec": {
      "name": "synapse_pyspark",
      "language": "Python",
      "display_name": "Synapse PySpark"
    },
    "language_info": {
      "name": "python",
      "version": "3.8.0",
      "mimetype": "text/x-python",
      "file_extension": ".py",
      "pygments_lexer": "ipython",
      "codemirror_mode": "ipython",
      "nbconvert_exporter": "python"
    },
    "microsoft": {
      "ms_spell_check": {
        "ms_spell_check_language": "en"
      },
      "host": {
        "AzureML": {
          "notebookHasBeenCompleted": true
        }
      }
    },
    "nteract": {
      "version": "nteract-front-end@1.0.0"
    },
    "kernel_info": {
      "name": "synapse_pyspark"
    }
  },
  "nbformat": 4,
  "nbformat_minor": 2
}