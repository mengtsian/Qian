{
  "cells": [
    {
      "cell_type": "markdown",
      "source": [
        "# Case"
      ],
      "metadata": {
        "nteract": {
          "transient": {
            "deleting": false
          }
        }
      }
    },
    {
      "cell_type": "markdown",
      "source": [
        "# Formål \n",
        "Sensor data analyse og en løsning som kan redusere risikoen for at nedrivning av kontaktledning skjer. \n",
        "# Planen\n",
        "1. Samle alle json data.\n",
        "2. Dataforbehandling (data pre-prosessing).\n",
        "3. Forskning på modeller som passer for data. \n",
        "4. Trener og tester modeller.\n",
        "5. Evaluering av modeller."
      ],
      "metadata": {
        "nteract": {
          "transient": {
            "deleting": false
          }
        }
      }
    },
    {
      "cell_type": "code",
      "source": [
        "# importerer nødvendige biblioteker.\n",
        "\n",
        "import numpy as np\n",
        "import pandas as pd \n",
        "import matplotlib.pyplot as plt\n",
        "from pyspark.sql.functions import *\n",
        "from pathlib import Path\n",
        "from sklearn.model_selection import train_test_split\n",
        "from sklearn.linear_model import LogisticRegression\n",
        "from sklearn.metrics import classification_report, accuracy_score, confusion_matrix\n",
        "from sklearn.ensemble import RandomForestClassifier\n",
        "from sklearn.ensemble import GradientBoostingClassifier\n",
        "%matplotlib inline\n"
      ],
      "outputs": [
        {
          "output_type": "display_data",
          "data": {
            "application/vnd.livy.statement-meta+json": {
              "spark_pool": "cd8c8f88-1104-4cc8-b9ee-c7507007e049",
              "session_id": "10",
              "statement_id": 71,
              "state": "finished",
              "livy_statement_state": "available",
              "queued_time": "2023-10-23T08:51:28.3787851Z",
              "session_start_time": null,
              "execution_start_time": "2023-10-23T08:51:28.4515213Z",
              "execution_finish_time": "2023-10-23T08:51:28.7907953Z",
              "spark_jobs": {
                "numbers": {
                  "SUCCEEDED": 0,
                  "UNKNOWN": 0,
                  "RUNNING": 0,
                  "FAILED": 0
                },
                "jobs": [],
                "limit": 20,
                "rule": "ALL_DESC"
              },
              "parent_msg_id": "6aa4a4ac-2fcf-494f-b922-0a4b774c6263"
            },
            "text/plain": "StatementMeta(cd8c8f88-1104-4cc8-b9ee-c7507007e049, 10, 71, Finished, Available)"
          },
          "metadata": {}
        }
      ],
      "execution_count": 59,
      "metadata": {
        "jupyter": {
          "source_hidden": false,
          "outputs_hidden": false
        },
        "nteract": {
          "transient": {
            "deleting": false
          }
        },
        "gather": {
          "logged": 1698051090489
        }
      }
    },
    {
      "cell_type": "markdown",
      "source": [
        "# 1. Samle alle json data."
      ],
      "metadata": {
        "nteract": {
          "transient": {
            "deleting": false
          }
        }
      }
    },
    {
      "cell_type": "code",
      "source": [
        "# samle alle data \n",
        "sdf = spark.read.json(\"wasbs://azureml-blobstore-3d53d74d-ad80-45bf-9413-92393f9c3b6f@sensor0552536296.blob.core.windows.net/*.json\")\n",
        "sdf = sdf.select(\"timestamp\",\"event_id\",\"train_id\",\"incident\",\"kontaktkraft\",\"hastighet\",\"location_type\",\"wind_speed\",\"wind_direction\",\"distance_to_pole\")\n",
        "sdf.show()\n"
      ],
      "outputs": [
        {
          "output_type": "display_data",
          "data": {
            "application/vnd.livy.statement-meta+json": {
              "spark_pool": "cd8c8f88-1104-4cc8-b9ee-c7507007e049",
              "session_id": "10",
              "statement_id": 72,
              "state": "finished",
              "livy_statement_state": "available",
              "queued_time": "2023-10-23T08:51:31.6145557Z",
              "session_start_time": null,
              "execution_start_time": "2023-10-23T08:51:31.6965892Z",
              "execution_finish_time": "2023-10-23T08:51:44.4028812Z",
              "spark_jobs": {
                "numbers": {
                  "SUCCEEDED": 4,
                  "UNKNOWN": 0,
                  "RUNNING": 0,
                  "FAILED": 0
                },
                "jobs": [
                  {
                    "displayName": "showString at NativeMethodAccessorImpl.java:0",
                    "dataWritten": 0,
                    "dataRead": 6888,
                    "rowCount": 21,
                    "usageDescription": "",
                    "jobId": 8,
                    "name": "showString at NativeMethodAccessorImpl.java:0",
                    "description": "Job group for statement 72:\n# samle alle data \nsdf = spark.read.json(\"wasbs://azureml-blobstore-3d53d74d-ad80-45bf-9413-92393f9c3b6f@sensor0552536296.blob.core.windows.net/*.json\")\nsdf = sdf.select(\"timestamp\",\"event_id\",\"train_id\",\"incident\",\"kontaktkraft\",\"hastighet\",\"location_type\",\"wind_speed\",\"wind_direction\",\"distance_to_pole\")\nsdf.show()\n",
                    "submissionTime": "2023-10-23T08:51:42.781GMT",
                    "completionTime": "2023-10-23T08:51:43.203GMT",
                    "stageIds": [
                      8
                    ],
                    "jobGroup": "72",
                    "status": "SUCCEEDED",
                    "numTasks": 1,
                    "numActiveTasks": 0,
                    "numCompletedTasks": 1,
                    "numSkippedTasks": 0,
                    "numFailedTasks": 0,
                    "numKilledTasks": 0,
                    "numCompletedIndices": 1,
                    "numActiveStages": 0,
                    "numCompletedStages": 1,
                    "numSkippedStages": 0,
                    "numFailedStages": 0,
                    "killedTasksSummary": {}
                  },
                  {
                    "displayName": "json at NativeMethodAccessorImpl.java:0",
                    "dataWritten": 0,
                    "dataRead": 646571,
                    "rowCount": 2000,
                    "usageDescription": "",
                    "jobId": 7,
                    "name": "json at NativeMethodAccessorImpl.java:0",
                    "description": "Job group for statement 72:\n# samle alle data \nsdf = spark.read.json(\"wasbs://azureml-blobstore-3d53d74d-ad80-45bf-9413-92393f9c3b6f@sensor0552536296.blob.core.windows.net/*.json\")\nsdf = sdf.select(\"timestamp\",\"event_id\",\"train_id\",\"incident\",\"kontaktkraft\",\"hastighet\",\"location_type\",\"wind_speed\",\"wind_direction\",\"distance_to_pole\")\nsdf.show()\n",
                    "submissionTime": "2023-10-23T08:51:37.902GMT",
                    "completionTime": "2023-10-23T08:51:42.540GMT",
                    "stageIds": [
                      7
                    ],
                    "jobGroup": "72",
                    "status": "SUCCEEDED",
                    "numTasks": 63,
                    "numActiveTasks": 0,
                    "numCompletedTasks": 63,
                    "numSkippedTasks": 0,
                    "numFailedTasks": 0,
                    "numKilledTasks": 0,
                    "numCompletedIndices": 63,
                    "numActiveStages": 0,
                    "numCompletedStages": 1,
                    "numSkippedStages": 0,
                    "numFailedStages": 0,
                    "killedTasksSummary": {}
                  },
                  {
                    "displayName": "json at NativeMethodAccessorImpl.java:0",
                    "dataWritten": 0,
                    "dataRead": 0,
                    "rowCount": 0,
                    "usageDescription": "",
                    "jobId": 6,
                    "name": "json at NativeMethodAccessorImpl.java:0",
                    "description": "Listing leaf files and directories for 2000 paths:<br/>wasbs://azureml-blobstore-3d53d74d-ad80-45bf-9413-92393f9c3b6f@sensor0552536296.blob.core.windows.net/001430ec-9610-4d44-b3a9-d343f0aa51eb.json, ...",
                    "submissionTime": "2023-10-23T08:51:35.129GMT",
                    "completionTime": "2023-10-23T08:51:37.581GMT",
                    "stageIds": [
                      6
                    ],
                    "jobGroup": "72",
                    "status": "SUCCEEDED",
                    "numTasks": 200,
                    "numActiveTasks": 0,
                    "numCompletedTasks": 200,
                    "numSkippedTasks": 0,
                    "numFailedTasks": 0,
                    "numKilledTasks": 0,
                    "numCompletedIndices": 200,
                    "numActiveStages": 0,
                    "numCompletedStages": 1,
                    "numSkippedStages": 0,
                    "numFailedStages": 0,
                    "killedTasksSummary": {}
                  },
                  {
                    "displayName": "json at NativeMethodAccessorImpl.java:0",
                    "dataWritten": 0,
                    "dataRead": 0,
                    "rowCount": 0,
                    "usageDescription": "",
                    "jobId": 5,
                    "name": "json at NativeMethodAccessorImpl.java:0",
                    "description": "Listing leaf files and directories for 2000 paths:<br/>wasbs://azureml-blobstore-3d53d74d-ad80-45bf-9413-92393f9c3b6f@sensor0552536296.blob.core.windows.net/001430ec-9610-4d44-b3a9-d343f0aa51eb.json, ...",
                    "submissionTime": "2023-10-23T08:51:32.266GMT",
                    "completionTime": "2023-10-23T08:51:34.780GMT",
                    "stageIds": [
                      5
                    ],
                    "jobGroup": "72",
                    "status": "SUCCEEDED",
                    "numTasks": 200,
                    "numActiveTasks": 0,
                    "numCompletedTasks": 200,
                    "numSkippedTasks": 0,
                    "numFailedTasks": 0,
                    "numKilledTasks": 0,
                    "numCompletedIndices": 200,
                    "numActiveStages": 0,
                    "numCompletedStages": 1,
                    "numSkippedStages": 0,
                    "numFailedStages": 0,
                    "killedTasksSummary": {}
                  }
                ],
                "limit": 20,
                "rule": "ALL_DESC"
              },
              "parent_msg_id": "55fb1634-39ff-4eca-9453-ecf738c7a572"
            },
            "text/plain": "StatementMeta(cd8c8f88-1104-4cc8-b9ee-c7507007e049, 10, 72, Finished, Available)"
          },
          "metadata": {}
        },
        {
          "output_type": "stream",
          "name": "stdout",
          "text": "+--------------------+--------------------+--------+--------+------------------+------------------+--------------+------------------+--------------+------------------+\n|           timestamp|            event_id|train_id|incident|      kontaktkraft|         hastighet| location_type|        wind_speed|wind_direction|  distance_to_pole|\n+--------------------+--------------------+--------+--------+------------------+------------------+--------------+------------------+--------------+------------------+\n|2023-06-28T12:16:...|03e41ff8-1569-4e5...|       4|       0|53.075336298901874|100.52045817069519|open_landscape|13.654069202674856|         270.0|21.368012904994544|\n|2023-06-28T12:15:...|0552ec24-65a9-443...|       4|       0|54.436218020050305|100.84488510632364|open_landscape|13.546852930754524|         270.0|11.103093617000004|\n|2023-06-28T12:17:...|06295cca-0f51-4f6...|       6|       0|51.590510084739215|100.81307146667811|open_landscape|13.988899016902758|         180.0|23.290145404200555|\n|2023-06-28T12:15:...|2ffa9da2-449c-47b...|       1|       1|29.430269793686712|118.40785785424853|open_landscape|3.1359657299554593|         270.0|23.468587029991003|\n|2023-06-28T12:17:...|317320c7-ebc2-48a...|       4|       0|52.379474868761214|101.59763791199846|open_landscape|13.447667471532778|         270.0|23.337681868539693|\n|2023-06-28T12:16:...|4d3989ae-96c1-4b8...|       1|       0|63.689220274235254|121.87416626916865|open_landscape|3.3676478820842672|         270.0|12.490369185870506|\n|2023-06-28T12:15:...|51f296ec-806b-4bf...|       6|       0|55.091304993343876|102.39725235268423|open_landscape|13.151845873246813|         180.0|11.499849638403939|\n|2023-06-28T12:16:...|557cfe8a-2290-4dd...|       4|       0|53.448276124878866|101.80873754020678|open_landscape|13.239522119009237|         270.0|23.199408398219887|\n|2023-06-28T12:16:...|675c7322-b2b8-4ac...|       6|       0|55.339834269990746|102.95929368504113|open_landscape|13.494626634660156|         180.0|23.421343796193636|\n|2023-06-28T12:15:...|7622cb2f-de62-4b1...|       9|       0|59.842396738276314|110.67087746030744|open_landscape|5.3039447461373355|         225.0|12.486579736743098|\n|2023-06-28T12:16:...|762ed47d-e189-4be...|       6|       1|42.914696045961456|101.54017806114675|open_landscape|13.647828212923097|         180.0|11.017505741443918|\n|2023-06-28T12:15:...|7fa0fe9d-5bd8-4a4...|       4|       0|53.826113019810165|101.46256950527786|open_landscape|14.007553427784392|         270.0|21.226325492159148|\n|2023-06-28T12:15:...|839a8685-9b15-43c...|       6|       0|54.281826168787774|101.51763568669345|open_landscape|13.316636779505455|         180.0|23.192074694153945|\n|2023-06-28T12:16:...|8cdb06d9-c8cc-454...|       4|       0|52.242544415884986|100.82698137827525|open_landscape|13.973161710544701|         270.0|12.043467123429192|\n|2023-06-28T12:16:...|8f763123-81f1-491...|       4|       0|54.228315131914414|100.31714373978859|open_landscape|13.684636365922408|         270.0|23.040302553421306|\n|2023-06-28T12:16:...|96b386e6-a940-4fd...|       4|       0|54.720110450344066|102.08900394642848|open_landscape|13.809547717077582|         270.0|11.034658479102761|\n|2023-06-28T12:16:...|a88e0dd0-79a4-4eb...|       6|       0|52.485489442653716|100.18450340941678|open_landscape|13.138146873648388|         180.0|12.165529592566932|\n|2023-06-28T12:16:...|c13fe3ab-4a56-4f4...|       4|       0|55.196434367947404|100.15061018401357|open_landscape|13.045633191039892|         270.0|12.147013803532301|\n|2023-06-28T12:17:...|c25742f8-e7c0-47f...|       6|       0|55.683742847348384|101.20984831730537|open_landscape|13.357518385736585|         180.0|11.305866178863573|\n|2023-06-28T12:16:...|dbeb322e-091a-4db...|       6|       0|53.801580369561776|102.90850592512739|open_landscape|13.191380529211816|         180.0|12.065449825140146|\n+--------------------+--------------------+--------+--------+------------------+------------------+--------------+------------------+--------------+------------------+\nonly showing top 20 rows\n\n"
        }
      ],
      "execution_count": 60,
      "metadata": {
        "gather": {
          "logged": 1698051106116
        },
        "run_control": {
          "frozen": false
        },
        "editable": true
      }
    },
    {
      "cell_type": "markdown",
      "source": [
        "# 2. Dataforbehandling"
      ],
      "metadata": {
        "nteract": {
          "transient": {
            "deleting": false
          }
        }
      }
    },
    {
      "cell_type": "code",
      "source": [
        "# endrer dato format\n",
        "df=sdf.toPandas()\n",
        "df[\"timestamp\"] = pd.to_datetime(df[\"timestamp\"], format='%Y-%m-%dT%H:%M:%S.%f')\n"
      ],
      "outputs": [
        {
          "output_type": "display_data",
          "data": {
            "application/vnd.livy.statement-meta+json": {
              "spark_pool": "cd8c8f88-1104-4cc8-b9ee-c7507007e049",
              "session_id": "10",
              "statement_id": 73,
              "state": "finished",
              "livy_statement_state": "available",
              "queued_time": "2023-10-23T08:51:51.1812052Z",
              "session_start_time": null,
              "execution_start_time": "2023-10-23T08:51:51.2547678Z",
              "execution_finish_time": "2023-10-23T08:51:56.3855849Z",
              "spark_jobs": {
                "numbers": {
                  "SUCCEEDED": 1,
                  "UNKNOWN": 0,
                  "RUNNING": 0,
                  "FAILED": 0
                },
                "jobs": [
                  {
                    "displayName": "toPandas at /tmp/ipykernel_6950/1514289311.py:2",
                    "dataWritten": 0,
                    "dataRead": 646571,
                    "rowCount": 2000,
                    "usageDescription": "",
                    "jobId": 9,
                    "name": "toPandas at /tmp/ipykernel_6950/1514289311.py:2",
                    "description": "Job group for statement 73:\n# endrer dato format\ndf=sdf.toPandas()\ndf[\"timestamp\"] = pd.to_datetime(df[\"timestamp\"], format='%Y-%m-%dT%H:%M:%S.%f')\n",
                    "submissionTime": "2023-10-23T08:51:51.399GMT",
                    "completionTime": "2023-10-23T08:51:55.997GMT",
                    "stageIds": [
                      9
                    ],
                    "jobGroup": "73",
                    "status": "SUCCEEDED",
                    "numTasks": 63,
                    "numActiveTasks": 0,
                    "numCompletedTasks": 63,
                    "numSkippedTasks": 0,
                    "numFailedTasks": 0,
                    "numKilledTasks": 0,
                    "numCompletedIndices": 63,
                    "numActiveStages": 0,
                    "numCompletedStages": 1,
                    "numSkippedStages": 0,
                    "numFailedStages": 0,
                    "killedTasksSummary": {}
                  }
                ],
                "limit": 20,
                "rule": "ALL_DESC"
              },
              "parent_msg_id": "8238dcb6-c20a-493a-9011-dffa77b93dc2"
            },
            "text/plain": "StatementMeta(cd8c8f88-1104-4cc8-b9ee-c7507007e049, 10, 73, Finished, Available)"
          },
          "metadata": {}
        }
      ],
      "execution_count": 61,
      "metadata": {
        "jupyter": {
          "source_hidden": false,
          "outputs_hidden": false
        },
        "nteract": {
          "transient": {
            "deleting": false
          }
        },
        "gather": {
          "logged": 1698051118083
        }
      }
    },
    {
      "cell_type": "code",
      "source": [
        "# viser data og prøver å finne ut forhold innimellom de dataene. \n",
        "x = df[[\"timestamp\"]]\n",
        "y = df[\"kontaktkraft\"]\n",
        "plt.scatter(x,y)\n",
        "plt.xlabel(\"Fig 1. Kontaktkraft spredning over tid\")\n",
        "plt.ylabel(\"konkaktkfaft\")\n",
        "plt.show()"
      ],
      "outputs": [
        {
          "output_type": "display_data",
          "data": {
            "application/vnd.livy.statement-meta+json": {
              "spark_pool": "cd8c8f88-1104-4cc8-b9ee-c7507007e049",
              "session_id": "10",
              "statement_id": 74,
              "state": "finished",
              "livy_statement_state": "available",
              "queued_time": "2023-10-23T08:51:58.685851Z",
              "session_start_time": null,
              "execution_start_time": "2023-10-23T08:51:58.7609222Z",
              "execution_finish_time": "2023-10-23T08:51:59.1011117Z",
              "spark_jobs": {
                "numbers": {
                  "SUCCEEDED": 0,
                  "UNKNOWN": 0,
                  "RUNNING": 0,
                  "FAILED": 0
                },
                "jobs": [],
                "limit": 20,
                "rule": "ALL_DESC"
              },
              "parent_msg_id": "9b06aee5-9590-4a4f-bdb1-123aafdea9fd"
            },
            "text/plain": "StatementMeta(cd8c8f88-1104-4cc8-b9ee-c7507007e049, 10, 74, Finished, Available)"
          },
          "metadata": {}
        },
        {
          "output_type": "display_data",
          "data": {
            "text/plain": "<Figure size 432x288 with 1 Axes>",
            "image/png": "[encoded data removed]"
          },
          "metadata": {
            "needs_background": "light"
          }
        }
      ],
      "execution_count": 62,
      "metadata": {
        "jupyter": {
          "source_hidden": false,
          "outputs_hidden": false
        },
        "nteract": {
          "transient": {
            "deleting": false
          }
        },
        "gather": {
          "logged": 1698051120880
        }
      }
    },
    {
      "cell_type": "code",
      "source": [
        "# Definere en funksjon til å map location_type til location_type1\n",
        "def map_location_type(location):\n",
        "    mapping = {\n",
        "        'bridge': 1,\n",
        "        'mountain': 2,  \n",
        "        'open_landscape': 3,\n",
        "        'town': 4\n",
        "    }\n",
        "    return mapping.get(location, None)  # Returnere None hvis location ikke er i mapping.\n",
        "\n",
        "\n",
        "df['location_type1'] = df['location_type'].apply(map_location_type)\n"
      ],
      "outputs": [
        {
          "output_type": "display_data",
          "data": {
            "application/vnd.livy.statement-meta+json": {
              "spark_pool": "cd8c8f88-1104-4cc8-b9ee-c7507007e049",
              "session_id": "10",
              "statement_id": 75,
              "state": "finished",
              "livy_statement_state": "available",
              "queued_time": "2023-10-23T08:52:01.9417113Z",
              "session_start_time": null,
              "execution_start_time": "2023-10-23T08:52:02.0162205Z",
              "execution_finish_time": "2023-10-23T08:52:02.3582223Z",
              "spark_jobs": {
                "numbers": {
                  "SUCCEEDED": 0,
                  "UNKNOWN": 0,
                  "RUNNING": 0,
                  "FAILED": 0
                },
                "jobs": [],
                "limit": 20,
                "rule": "ALL_DESC"
              },
              "parent_msg_id": "174b5d6a-0a44-4bc3-85e7-657045cf289e"
            },
            "text/plain": "StatementMeta(cd8c8f88-1104-4cc8-b9ee-c7507007e049, 10, 75, Finished, Available)"
          },
          "metadata": {}
        }
      ],
      "execution_count": 63,
      "metadata": {
        "jupyter": {
          "source_hidden": false,
          "outputs_hidden": false
        },
        "nteract": {
          "transient": {
            "deleting": false
          }
        },
        "gather": {
          "logged": 1698051124166
        }
      }
    },
    {
      "cell_type": "code",
      "source": [
        "print(df)"
      ],
      "outputs": [
        {
          "output_type": "display_data",
          "data": {
            "application/vnd.livy.statement-meta+json": {
              "spark_pool": "cd8c8f88-1104-4cc8-b9ee-c7507007e049",
              "session_id": "10",
              "statement_id": 76,
              "state": "finished",
              "livy_statement_state": "available",
              "queued_time": "2023-10-23T08:52:04.867108Z",
              "session_start_time": null,
              "execution_start_time": "2023-10-23T08:52:04.9420273Z",
              "execution_finish_time": "2023-10-23T08:52:05.2744334Z",
              "spark_jobs": {
                "numbers": {
                  "SUCCEEDED": 0,
                  "UNKNOWN": 0,
                  "RUNNING": 0,
                  "FAILED": 0
                },
                "jobs": [],
                "limit": 20,
                "rule": "ALL_DESC"
              },
              "parent_msg_id": "3c503fda-7449-44c6-bf6e-c3ba71db72f6"
            },
            "text/plain": "StatementMeta(cd8c8f88-1104-4cc8-b9ee-c7507007e049, 10, 76, Finished, Available)"
          },
          "metadata": {}
        },
        {
          "output_type": "stream",
          "name": "stdout",
          "text": "                      timestamp                              event_id  \\\n0    2023-06-28 12:16:29.875945  03e41ff8-1569-4e59-a7d4-779d7156f654   \n1    2023-06-28 12:15:45.877945  0552ec24-65a9-4437-96b5-d7ac2ae0f5d4   \n2    2023-06-28 12:17:05.262846  06295cca-0f51-4f69-ace2-a066086be93c   \n3    2023-06-28 12:15:59.247846  2ffa9da2-449c-47b7-9624-c83cba7667fb   \n4    2023-06-28 12:17:12.551945  317320c7-ebc2-48a9-8933-17b45046289d   \n...                         ...                                   ...   \n1995 2023-06-28 12:17:12.888862  a556eac3-7f14-4e4a-9fd8-b8de67b170eb   \n1996 2023-06-28 12:15:52.376862  dd9ea3b5-c7a4-4b4b-b411-ef6445b83e90   \n1997 2023-06-28 12:16:37.056848  e7c896d1-812f-4638-97b3-00bef0edb38b   \n1998 2023-06-28 12:16:30.306848  fecceb74-b571-45eb-a27e-bad5dd69ac80   \n1999 2023-06-28 12:16:40.860848  fccb8112-deec-45ea-afd9-bd48f5a03c52   \n\n      train_id  incident  kontaktkraft   hastighet   location_type  \\\n0            4         0     53.075336  100.520458  open_landscape   \n1            4         0     54.436218  100.844885  open_landscape   \n2            6         0     51.590510  100.813071  open_landscape   \n3            1         1     29.430270  118.407858  open_landscape   \n4            4         0     52.379475  101.597638  open_landscape   \n...        ...       ...           ...         ...             ...   \n1995         8         0     53.776466   99.777057            town   \n1996         8         0     54.198929   99.346359            town   \n1997         7         0     54.051576  103.265751            town   \n1998         7         0     53.633986  103.183752            town   \n1999         7         0     52.880153  104.130561            town   \n\n      wind_speed  wind_direction  distance_to_pole  location_type1  \n0      13.654069           270.0         21.368013             3.0  \n1      13.546853           270.0         11.103094             3.0  \n2      13.988899           180.0         23.290145             3.0  \n3       3.135966           270.0         23.468587             3.0  \n4      13.447667           270.0         23.337682             3.0  \n...          ...             ...               ...             ...  \n1995    5.043451             0.0         21.330735             4.0  \n1996    5.102890             0.0         11.391783             4.0  \n1997    8.708595             0.0         23.059845             4.0  \n1998    8.991035             0.0         23.378995             4.0  \n1999    8.958185             0.0         23.133075             4.0  \n\n[2000 rows x 11 columns]\n"
        }
      ],
      "execution_count": 64,
      "metadata": {
        "jupyter": {
          "source_hidden": false,
          "outputs_hidden": false
        },
        "nteract": {
          "transient": {
            "deleting": false
          }
        },
        "gather": {
          "logged": 1698051126996
        }
      }
    },
    {
      "cell_type": "code",
      "source": [
        "x = df[[\"location_type1\"]]\n",
        "y = df[\"incident\"]\n",
        "plt.scatter(x,y)\n",
        "plt.xlabel(\"Fig 2. Incident spredning over location_type\")\n",
        "plt.ylabel(\"incident\")\n",
        "plt.show()"
      ],
      "outputs": [
        {
          "output_type": "display_data",
          "data": {
            "application/vnd.livy.statement-meta+json": {
              "spark_pool": "cd8c8f88-1104-4cc8-b9ee-c7507007e049",
              "session_id": "10",
              "statement_id": 77,
              "state": "finished",
              "livy_statement_state": "available",
              "queued_time": "2023-10-23T08:52:09.1546558Z",
              "session_start_time": null,
              "execution_start_time": "2023-10-23T08:52:09.2362867Z",
              "execution_finish_time": "2023-10-23T08:52:09.5716106Z",
              "spark_jobs": {
                "numbers": {
                  "SUCCEEDED": 0,
                  "UNKNOWN": 0,
                  "RUNNING": 0,
                  "FAILED": 0
                },
                "jobs": [],
                "limit": 20,
                "rule": "ALL_DESC"
              },
              "parent_msg_id": "dc453816-207f-4ec5-b2dd-1b5c63f374bf"
            },
            "text/plain": "StatementMeta(cd8c8f88-1104-4cc8-b9ee-c7507007e049, 10, 77, Finished, Available)"
          },
          "metadata": {}
        },
        {
          "output_type": "display_data",
          "data": {
            "text/plain": "<Figure size 432x288 with 1 Axes>",
            "image/png": "[encoded data removed]"
          },
          "metadata": {
            "needs_background": "light"
          }
        }
      ],
      "execution_count": 65,
      "metadata": {
        "jupyter": {
          "source_hidden": false,
          "outputs_hidden": false
        },
        "nteract": {
          "transient": {
            "deleting": false
          }
        },
        "gather": {
          "logged": 1698051131349
        }
      }
    },
    {
      "cell_type": "code",
      "source": [
        "x = df[[\"train_id\"]]\n",
        "y = df[\"incident\"]\n",
        "plt.scatter(x,y)\n",
        "plt.xlabel(\"Fig 3. Incident spredning over train_id\")\n",
        "plt.ylabel(\"incident\")\n",
        "plt.show()"
      ],
      "outputs": [
        {
          "output_type": "display_data",
          "data": {
            "application/vnd.livy.statement-meta+json": {
              "spark_pool": "cd8c8f88-1104-4cc8-b9ee-c7507007e049",
              "session_id": "10",
              "statement_id": 78,
              "state": "finished",
              "livy_statement_state": "available",
              "queued_time": "2023-10-23T08:52:12.237694Z",
              "session_start_time": null,
              "execution_start_time": "2023-10-23T08:52:12.3348241Z",
              "execution_finish_time": "2023-10-23T08:52:12.6861911Z",
              "spark_jobs": {
                "numbers": {
                  "SUCCEEDED": 0,
                  "UNKNOWN": 0,
                  "RUNNING": 0,
                  "FAILED": 0
                },
                "jobs": [],
                "limit": 20,
                "rule": "ALL_DESC"
              },
              "parent_msg_id": "f0953abb-b56c-49a8-b8f6-da56472c4483"
            },
            "text/plain": "StatementMeta(cd8c8f88-1104-4cc8-b9ee-c7507007e049, 10, 78, Finished, Available)"
          },
          "metadata": {}
        },
        {
          "output_type": "display_data",
          "data": {
            "text/plain": "<Figure size 432x288 with 1 Axes>",
            "image/png": "[encoded data removed]"
          },
          "metadata": {
            "needs_background": "light"
          }
        }
      ],
      "execution_count": 66,
      "metadata": {
        "jupyter": {
          "source_hidden": false,
          "outputs_hidden": false
        },
        "nteract": {
          "transient": {
            "deleting": false
          }
        },
        "gather": {
          "logged": 1698051134462
        }
      }
    },
    {
      "cell_type": "code",
      "source": [
        "x = df[[\"timestamp\"]]\n",
        "y = df[\"incident\"]\n",
        "plt.scatter(x,y)\n",
        "plt.xlabel(\"Fig 4. Incident spredning over tid\")\n",
        "plt.ylabel(\"incident\")\n",
        "plt.show()"
      ],
      "outputs": [
        {
          "output_type": "display_data",
          "data": {
            "application/vnd.livy.statement-meta+json": {
              "spark_pool": "cd8c8f88-1104-4cc8-b9ee-c7507007e049",
              "session_id": "10",
              "statement_id": 79,
              "state": "finished",
              "livy_statement_state": "available",
              "queued_time": "2023-10-23T08:52:16.0797484Z",
              "session_start_time": null,
              "execution_start_time": "2023-10-23T08:52:16.1594059Z",
              "execution_finish_time": "2023-10-23T08:52:16.5024652Z",
              "spark_jobs": {
                "numbers": {
                  "SUCCEEDED": 0,
                  "UNKNOWN": 0,
                  "RUNNING": 0,
                  "FAILED": 0
                },
                "jobs": [],
                "limit": 20,
                "rule": "ALL_DESC"
              },
              "parent_msg_id": "9a690017-9ecb-4cad-a02f-243040b8f96d"
            },
            "text/plain": "StatementMeta(cd8c8f88-1104-4cc8-b9ee-c7507007e049, 10, 79, Finished, Available)"
          },
          "metadata": {}
        },
        {
          "output_type": "display_data",
          "data": {
            "text/plain": "<Figure size 432x288 with 1 Axes>",
            "image/png": "[encoded data removed]"
          },
          "metadata": {
            "needs_background": "light"
          }
        }
      ],
      "execution_count": 67,
      "metadata": {
        "jupyter": {
          "source_hidden": false,
          "outputs_hidden": false
        },
        "nteract": {
          "transient": {
            "deleting": false
          }
        },
        "gather": {
          "logged": 1698051138291
        }
      }
    },
    {
      "cell_type": "code",
      "source": [
        "x = df[[\"timestamp\"]]\n",
        "y = df[\"hastighet\"]\n",
        "plt.scatter(x,y)\n",
        "plt.xlabel(\"Fig 5. Tog hastighet spredning over tid\")\n",
        "plt.ylabel(\"tog hastighet\")\n",
        "plt.show()"
      ],
      "outputs": [
        {
          "output_type": "display_data",
          "data": {
            "application/vnd.livy.statement-meta+json": {
              "spark_pool": "cd8c8f88-1104-4cc8-b9ee-c7507007e049",
              "session_id": "10",
              "statement_id": 80,
              "state": "finished",
              "livy_statement_state": "available",
              "queued_time": "2023-10-23T08:52:37.8491921Z",
              "session_start_time": null,
              "execution_start_time": "2023-10-23T08:52:37.9291358Z",
              "execution_finish_time": "2023-10-23T08:52:38.2702303Z",
              "spark_jobs": {
                "numbers": {
                  "SUCCEEDED": 0,
                  "UNKNOWN": 0,
                  "RUNNING": 0,
                  "FAILED": 0
                },
                "jobs": [],
                "limit": 20,
                "rule": "ALL_DESC"
              },
              "parent_msg_id": "4bb54a9b-f9ed-4cbf-af75-cb2467838e2d"
            },
            "text/plain": "StatementMeta(cd8c8f88-1104-4cc8-b9ee-c7507007e049, 10, 80, Finished, Available)"
          },
          "metadata": {}
        },
        {
          "output_type": "display_data",
          "data": {
            "text/plain": "<Figure size 432x288 with 1 Axes>",
            "image/png": "[encoded data removed]"
          },
          "metadata": {
            "needs_background": "light"
          }
        }
      ],
      "execution_count": 68,
      "metadata": {
        "jupyter": {
          "source_hidden": false,
          "outputs_hidden": false
        },
        "nteract": {
          "transient": {
            "deleting": false
          }
        },
        "gather": {
          "logged": 1698051160122
        }
      }
    },
    {
      "cell_type": "code",
      "source": [
        "x = df[[\"timestamp\"]]\n",
        "y = df[\"wind_speed\"]\n",
        "plt.scatter(x,y)\n",
        "plt.xlabel(\"Fig 6. Wind_speed spredning over tid\")\n",
        "plt.ylabel(\"wind_speed\")\n",
        "plt.show()"
      ],
      "outputs": [
        {
          "output_type": "display_data",
          "data": {
            "application/vnd.livy.statement-meta+json": {
              "spark_pool": "cd8c8f88-1104-4cc8-b9ee-c7507007e049",
              "session_id": "10",
              "statement_id": 81,
              "state": "finished",
              "livy_statement_state": "available",
              "queued_time": "2023-10-23T08:52:41.7586805Z",
              "session_start_time": null,
              "execution_start_time": "2023-10-23T08:52:41.8453728Z",
              "execution_finish_time": "2023-10-23T08:52:42.1891561Z",
              "spark_jobs": {
                "numbers": {
                  "SUCCEEDED": 0,
                  "UNKNOWN": 0,
                  "RUNNING": 0,
                  "FAILED": 0
                },
                "jobs": [],
                "limit": 20,
                "rule": "ALL_DESC"
              },
              "parent_msg_id": "ea8f2946-d8eb-4f09-b453-8a99dee27432"
            },
            "text/plain": "StatementMeta(cd8c8f88-1104-4cc8-b9ee-c7507007e049, 10, 81, Finished, Available)"
          },
          "metadata": {}
        },
        {
          "output_type": "display_data",
          "data": {
            "text/plain": "<Figure size 432x288 with 1 Axes>",
            "image/png": "[encoded data removed]"
          },
          "metadata": {
            "needs_background": "light"
          }
        }
      ],
      "execution_count": 69,
      "metadata": {
        "jupyter": {
          "source_hidden": false,
          "outputs_hidden": false
        },
        "nteract": {
          "transient": {
            "deleting": false
          }
        },
        "gather": {
          "logged": 1698051163967
        }
      }
    },
    {
      "cell_type": "code",
      "source": [
        "x = df[[\"hastighet\"]]\n",
        "y = df[\"incident\"]\n",
        "plt.scatter(x,y)\n",
        "plt.xlabel(\"Fig 7. Incident spredning over tog hastighet\")\n",
        "plt.ylabel(\"incident\")\n",
        "plt.show()"
      ],
      "outputs": [
        {
          "output_type": "display_data",
          "data": {
            "application/vnd.livy.statement-meta+json": {
              "spark_pool": "cd8c8f88-1104-4cc8-b9ee-c7507007e049",
              "session_id": "10",
              "statement_id": 82,
              "state": "finished",
              "livy_statement_state": "available",
              "queued_time": "2023-10-23T08:52:44.4226118Z",
              "session_start_time": null,
              "execution_start_time": "2023-10-23T08:52:44.4997151Z",
              "execution_finish_time": "2023-10-23T08:52:44.8495565Z",
              "spark_jobs": {
                "numbers": {
                  "SUCCEEDED": 0,
                  "UNKNOWN": 0,
                  "RUNNING": 0,
                  "FAILED": 0
                },
                "jobs": [],
                "limit": 20,
                "rule": "ALL_DESC"
              },
              "parent_msg_id": "c0f6ceec-b041-42a9-8739-727ea264ee5b"
            },
            "text/plain": "StatementMeta(cd8c8f88-1104-4cc8-b9ee-c7507007e049, 10, 82, Finished, Available)"
          },
          "metadata": {}
        },
        {
          "output_type": "display_data",
          "data": {
            "text/plain": "<Figure size 432x288 with 1 Axes>",
            "image/png": "[encoded data removed]"
          },
          "metadata": {
            "needs_background": "light"
          }
        }
      ],
      "execution_count": 70,
      "metadata": {
        "jupyter": {
          "source_hidden": false,
          "outputs_hidden": false
        },
        "nteract": {
          "transient": {
            "deleting": false
          }
        },
        "gather": {
          "logged": 1698051166657
        }
      }
    },
    {
      "cell_type": "code",
      "source": [
        "x = df[[\"wind_speed\"]]\n",
        "y = df[\"incident\"]\n",
        "plt.scatter(x,y)\n",
        "plt.xlabel(\"Fig 8. Incident spredning over wind_speed\")\n",
        "plt.ylabel(\"incident\")\n",
        "plt.show()"
      ],
      "outputs": [
        {
          "output_type": "display_data",
          "data": {
            "application/vnd.livy.statement-meta+json": {
              "spark_pool": "cd8c8f88-1104-4cc8-b9ee-c7507007e049",
              "session_id": "10",
              "statement_id": 83,
              "state": "finished",
              "livy_statement_state": "available",
              "queued_time": "2023-10-23T08:52:47.6446621Z",
              "session_start_time": null,
              "execution_start_time": "2023-10-23T08:52:47.721062Z",
              "execution_finish_time": "2023-10-23T08:52:48.062088Z",
              "spark_jobs": {
                "numbers": {
                  "SUCCEEDED": 0,
                  "UNKNOWN": 0,
                  "RUNNING": 0,
                  "FAILED": 0
                },
                "jobs": [],
                "limit": 20,
                "rule": "ALL_DESC"
              },
              "parent_msg_id": "361a9f94-c5c5-4b39-ae68-cadcaf987aaf"
            },
            "text/plain": "StatementMeta(cd8c8f88-1104-4cc8-b9ee-c7507007e049, 10, 83, Finished, Available)"
          },
          "metadata": {}
        },
        {
          "output_type": "display_data",
          "data": {
            "text/plain": "<Figure size 432x288 with 1 Axes>",
            "image/png": "[encoded data removed]"
          },
          "metadata": {
            "needs_background": "light"
          }
        }
      ],
      "execution_count": 71,
      "metadata": {
        "jupyter": {
          "source_hidden": false,
          "outputs_hidden": false
        },
        "nteract": {
          "transient": {
            "deleting": false
          }
        },
        "gather": {
          "logged": 1698051169870
        }
      }
    },
    {
      "cell_type": "code",
      "source": [
        "x = df[[\"wind_speed\"]]\n",
        "y = df[\"kontaktkraft\"]\n",
        "plt.scatter(x,y)\n",
        "plt.xlabel(\"Fig 9. Kontaktkraft spredning over wind_speed\")\n",
        "plt.ylabel(\"kontaktkraft\")\n",
        "plt.show()"
      ],
      "outputs": [
        {
          "output_type": "display_data",
          "data": {
            "application/vnd.livy.statement-meta+json": {
              "spark_pool": "cd8c8f88-1104-4cc8-b9ee-c7507007e049",
              "session_id": "10",
              "statement_id": 84,
              "state": "finished",
              "livy_statement_state": "available",
              "queued_time": "2023-10-23T08:52:50.7833556Z",
              "session_start_time": null,
              "execution_start_time": "2023-10-23T08:52:50.8628886Z",
              "execution_finish_time": "2023-10-23T08:52:51.2577597Z",
              "spark_jobs": {
                "numbers": {
                  "SUCCEEDED": 0,
                  "UNKNOWN": 0,
                  "RUNNING": 0,
                  "FAILED": 0
                },
                "jobs": [],
                "limit": 20,
                "rule": "ALL_DESC"
              },
              "parent_msg_id": "c05981de-782d-40b8-b93b-6bbed63d98b3"
            },
            "text/plain": "StatementMeta(cd8c8f88-1104-4cc8-b9ee-c7507007e049, 10, 84, Finished, Available)"
          },
          "metadata": {}
        },
        {
          "output_type": "display_data",
          "data": {
            "text/plain": "<Figure size 432x288 with 1 Axes>",
            "image/png": "[encoded data removed]"
          },
          "metadata": {
            "needs_background": "light"
          }
        }
      ],
      "execution_count": 72,
      "metadata": {
        "jupyter": {
          "source_hidden": false,
          "outputs_hidden": false
        },
        "nteract": {
          "transient": {
            "deleting": false
          }
        },
        "gather": {
          "logged": 1698051173022
        }
      }
    },
    {
      "cell_type": "code",
      "source": [
        "x = df[[\"hastighet\"]]\n",
        "y = df[\"kontaktkraft\"]\n",
        "plt.scatter(x,y)\n",
        "plt.xlabel(\"Fig 10. Kontaktkraft spredning over tog hastighet\")\n",
        "plt.ylabel(\"kontaktkraft\")\n",
        "plt.show()"
      ],
      "outputs": [
        {
          "output_type": "display_data",
          "data": {
            "application/vnd.livy.statement-meta+json": {
              "spark_pool": "cd8c8f88-1104-4cc8-b9ee-c7507007e049",
              "session_id": "10",
              "statement_id": 85,
              "state": "finished",
              "livy_statement_state": "available",
              "queued_time": "2023-10-23T08:52:54.031898Z",
              "session_start_time": null,
              "execution_start_time": "2023-10-23T08:52:54.1179375Z",
              "execution_finish_time": "2023-10-23T08:52:54.4664773Z",
              "spark_jobs": {
                "numbers": {
                  "SUCCEEDED": 0,
                  "UNKNOWN": 0,
                  "RUNNING": 0,
                  "FAILED": 0
                },
                "jobs": [],
                "limit": 20,
                "rule": "ALL_DESC"
              },
              "parent_msg_id": "22228990-85df-45b5-930a-37bbe7b02430"
            },
            "text/plain": "StatementMeta(cd8c8f88-1104-4cc8-b9ee-c7507007e049, 10, 85, Finished, Available)"
          },
          "metadata": {}
        },
        {
          "output_type": "display_data",
          "data": {
            "text/plain": "<Figure size 432x288 with 1 Axes>",
            "image/png": "[encoded data removed]"
          },
          "metadata": {
            "needs_background": "light"
          }
        }
      ],
      "execution_count": 73,
      "metadata": {
        "jupyter": {
          "source_hidden": false,
          "outputs_hidden": false
        },
        "nteract": {
          "transient": {
            "deleting": false
          }
        },
        "gather": {
          "logged": 1698051176248
        }
      }
    },
    {
      "cell_type": "code",
      "source": [
        "x = df[[\"kontaktkraft\"]]\n",
        "y = df[\"incident\"]\n",
        "plt.scatter(x,y)\n",
        "plt.xlabel(\"Fig 11. Incident spredning over kontaktfraft\")\n",
        "plt.ylabel(\"incident\")\n",
        "plt.show()"
      ],
      "outputs": [
        {
          "output_type": "display_data",
          "data": {
            "application/vnd.livy.statement-meta+json": {
              "spark_pool": "cd8c8f88-1104-4cc8-b9ee-c7507007e049",
              "session_id": "10",
              "statement_id": 86,
              "state": "finished",
              "livy_statement_state": "available",
              "queued_time": "2023-10-23T08:53:20.8823418Z",
              "session_start_time": null,
              "execution_start_time": "2023-10-23T08:53:20.9736569Z",
              "execution_finish_time": "2023-10-23T08:53:21.3313562Z",
              "spark_jobs": {
                "numbers": {
                  "SUCCEEDED": 0,
                  "UNKNOWN": 0,
                  "RUNNING": 0,
                  "FAILED": 0
                },
                "jobs": [],
                "limit": 20,
                "rule": "ALL_DESC"
              },
              "parent_msg_id": "825b62ce-24e4-4cb8-8d43-6eb3871664c3"
            },
            "text/plain": "StatementMeta(cd8c8f88-1104-4cc8-b9ee-c7507007e049, 10, 86, Finished, Available)"
          },
          "metadata": {}
        },
        {
          "output_type": "display_data",
          "data": {
            "text/plain": "<Figure size 432x288 with 1 Axes>",
            "image/png": "[encoded data removed]"
          },
          "metadata": {
            "needs_background": "light"
          }
        }
      ],
      "execution_count": 74,
      "metadata": {
        "jupyter": {
          "source_hidden": false,
          "outputs_hidden": false
        },
        "nteract": {
          "transient": {
            "deleting": false
          }
        },
        "gather": {
          "logged": 1698051203226
        }
      }
    },
    {
      "cell_type": "code",
      "source": [
        "# Vi splitter data inntil to gruppe: en gruppe for data med incident = 0, en annen gruppe med incident =1.\n",
        "\n",
        "df1, df2 = df.loc[df['incident'] == 0],df.loc[df['incident'] == 1 ]\n",
        "\n",
        "xfilt1 = df1[[\"timestamp\"]]\n",
        "yfilt1 = df1[\"kontaktkraft\"]\n",
        "\n",
        "\n",
        "plt.scatter(xfilt1,yfilt1)\n",
        "plt.xlabel(\"Fig. 12. timestamp for de dataene med incident=0\")\n",
        "plt.ylabel(\"konkaktkfaft\")\n",
        "plt.show()\n",
        "\n",
        "xfilt2= df2[\"timestamp\"]\n",
        "yfilt2= df2[\"kontaktkraft\"]\n",
        "\n",
        "\n",
        "plt.scatter(xfilt2,yfilt2)\n",
        "plt.xlabel(\"Fig. 13. timestamp for de dataene med incident=1\")\n",
        "plt.ylabel(\"konkaktkfaft\")\n",
        "plt.show()"
      ],
      "outputs": [
        {
          "output_type": "display_data",
          "data": {
            "application/vnd.livy.statement-meta+json": {
              "spark_pool": "cd8c8f88-1104-4cc8-b9ee-c7507007e049",
              "session_id": "10",
              "statement_id": 87,
              "state": "finished",
              "livy_statement_state": "available",
              "queued_time": "2023-10-23T08:53:25.5070951Z",
              "session_start_time": null,
              "execution_start_time": "2023-10-23T08:53:25.5959665Z",
              "execution_finish_time": "2023-10-23T08:53:26.5498842Z",
              "spark_jobs": {
                "numbers": {
                  "SUCCEEDED": 0,
                  "UNKNOWN": 0,
                  "RUNNING": 0,
                  "FAILED": 0
                },
                "jobs": [],
                "limit": 20,
                "rule": "ALL_DESC"
              },
              "parent_msg_id": "a01be285-566a-467b-a994-fb120a7c4f25"
            },
            "text/plain": "StatementMeta(cd8c8f88-1104-4cc8-b9ee-c7507007e049, 10, 87, Finished, Available)"
          },
          "metadata": {}
        },
        {
          "output_type": "display_data",
          "data": {
            "text/plain": "<Figure size 432x288 with 1 Axes>",
            "image/png": "[encoded data removed]"
          },
          "metadata": {
            "needs_background": "light"
          }
        },
        {
          "output_type": "display_data",
          "data": {
            "text/plain": "<Figure size 432x288 with 1 Axes>",
            "image/png": "[encoded data removed]"
          },
          "metadata": {
            "needs_background": "light"
          }
        }
      ],
      "execution_count": 75,
      "metadata": {
        "jupyter": {
          "source_hidden": false,
          "outputs_hidden": false
        },
        "nteract": {
          "transient": {
            "deleting": false
          }
        },
        "gather": {
          "logged": 1698051208354
        }
      }
    },
    {
      "cell_type": "markdown",
      "source": [
        "# 3. Forskning på modeller logistiskregresjon, randomforest, gradientboosting. Disse tre klassifiseringsmodeller passer for denne data analyse.\n",
        "Logistisk regresjon er best for enkle, binære klassifiseringsproblemer med lineære beslutningsgrenser, og når enkelhet og tolkbarhet er prioritert.\n",
        "\n",
        "Random Forest og Gradient Boosting er mer egnet for komplekse klassifiseringsproblemer hvor forholdet mellom funksjonene ikke nødvendigvis er lineært.\n",
        "\n",
        "Random Forest er mer robust mot overtilpasning og krever mindre tuning, mens Gradient Boosting ofte gir høyere presisjon, men er mer utsatt for overtilpasning og krever nøye hyperparameter tuning."
      ],
      "metadata": {
        "nteract": {
          "transient": {
            "deleting": false
          }
        }
      }
    },
    {
      "cell_type": "markdown",
      "source": [
        "# 4. Trener og tester modeller."
      ],
      "metadata": {
        "nteract": {
          "transient": {
            "deleting": false
          }
        }
      }
    },
    {
      "cell_type": "code",
      "source": [
        "# enkel logistiskregresjion\n",
        "\n",
        "def kontaktkraft_incident_logistiskregresjon():\n",
        "\n",
        "    x = df[[\"kontaktkraft\"]]\n",
        "    y = df[\"incident\"]\n",
        "    \n",
        "    #forberedelse av data\n",
        "\n",
        "    x_train, x_test, y_train, y_test = train_test_split(x, y, test_size=0.3,random_state=97)\n",
        "    \n",
        "    # Initialiserer og trener en logistisk regresjonsmodell\n",
        "    model = LogisticRegression()\n",
        "    model.fit(x_train, y_train)\n",
        "\n",
        "    # Gjør prediksjoner på testsettet\n",
        "    y_pred = model.predict(x_test)\n",
        "\n",
        "    # Evaluerer modellens prestasjon\n",
        "    print(f\"Accuracy of simple logistic regression: {accuracy_score(y_test, y_pred)}\")\n",
        "    print(classification_report(y_test, y_pred))\n",
        "    print(confusion_matrix(y_test, y_pred))   "
      ],
      "outputs": [
        {
          "output_type": "display_data",
          "data": {
            "application/vnd.livy.statement-meta+json": {
              "spark_pool": "cd8c8f88-1104-4cc8-b9ee-c7507007e049",
              "session_id": "10",
              "statement_id": 88,
              "state": "finished",
              "livy_statement_state": "available",
              "queued_time": "2023-10-23T08:53:32.7173226Z",
              "session_start_time": null,
              "execution_start_time": "2023-10-23T08:53:32.7937923Z",
              "execution_finish_time": "2023-10-23T08:53:33.1464848Z",
              "spark_jobs": {
                "numbers": {
                  "SUCCEEDED": 0,
                  "UNKNOWN": 0,
                  "RUNNING": 0,
                  "FAILED": 0
                },
                "jobs": [],
                "limit": 20,
                "rule": "ALL_DESC"
              },
              "parent_msg_id": "01dc4599-8f86-4de0-87c5-c91ab642163b"
            },
            "text/plain": "StatementMeta(cd8c8f88-1104-4cc8-b9ee-c7507007e049, 10, 88, Finished, Available)"
          },
          "metadata": {}
        }
      ],
      "execution_count": 76,
      "metadata": {
        "jupyter": {
          "source_hidden": false,
          "outputs_hidden": false
        },
        "nteract": {
          "transient": {
            "deleting": false
          }
        },
        "gather": {
          "logged": 1698051214813
        }
      }
    },
    {
      "cell_type": "code",
      "source": [
        "# enkel randomforest\n",
        "def kontaktkraft_incident_randomforest():\n",
        "    x = df[[\"kontaktkraft\"]]\n",
        "    y = df[\"incident\"]\n",
        "    \n",
        "    #forberedelse av data\n",
        "    x_train, x_test, y_train, y_test = train_test_split(x, y, test_size=0.3, random_state=97)\n",
        "    \n",
        "    # Initialiserer og trener en logistisk regresjonsmodell\n",
        "    clf = RandomForestClassifier(n_estimators=100, random_state=57)\n",
        "    clf.fit(x_train, y_train)\n",
        "    # Gjør prediksjoner på testsettet\n",
        "    y_pred = clf.predict(x_test)\n",
        "\n",
        "    # Evaluerer modellens prestasjon\n",
        "    print(f\"Accuracy of simple random forest: {accuracy_score(y_test, y_pred)}\")\n",
        "    print(classification_report(y_test, y_pred))\n",
        "    print(confusion_matrix(y_test, y_pred))"
      ],
      "outputs": [
        {
          "output_type": "display_data",
          "data": {
            "application/vnd.livy.statement-meta+json": {
              "spark_pool": "cd8c8f88-1104-4cc8-b9ee-c7507007e049",
              "session_id": "10",
              "statement_id": 89,
              "state": "finished",
              "livy_statement_state": "available",
              "queued_time": "2023-10-23T08:53:37.7085214Z",
              "session_start_time": null,
              "execution_start_time": "2023-10-23T08:53:37.8085139Z",
              "execution_finish_time": "2023-10-23T08:53:38.1511071Z",
              "spark_jobs": {
                "numbers": {
                  "SUCCEEDED": 0,
                  "UNKNOWN": 0,
                  "RUNNING": 0,
                  "FAILED": 0
                },
                "jobs": [],
                "limit": 20,
                "rule": "ALL_DESC"
              },
              "parent_msg_id": "a6b05249-f140-42a5-83a9-cd3f8a11f4fe"
            },
            "text/plain": "StatementMeta(cd8c8f88-1104-4cc8-b9ee-c7507007e049, 10, 89, Finished, Available)"
          },
          "metadata": {}
        }
      ],
      "execution_count": 77,
      "metadata": {
        "jupyter": {
          "source_hidden": false,
          "outputs_hidden": false
        },
        "nteract": {
          "transient": {
            "deleting": false
          }
        },
        "gather": {
          "logged": 1698051219849
        }
      }
    },
    {
      "cell_type": "code",
      "source": [
        "from sklearn.naive_bayes import GaussianNB\n",
        "\n",
        "# enkel naive bayes\n",
        "def kontaktkraft_incident_naivebayes():\n",
        "    x = df[[\"kontaktkraft\"]]\n",
        "    y = df[\"incident\"]\n",
        "    \n",
        "    #forberedelse av data\n",
        "    x_train, x_test, y_train, y_test = train_test_split(x, y, test_size=0.3, random_state=97)\n",
        "    \n",
        "    # Initialiserer og trener en naive_bayes modell\n",
        "    gnb = GaussianNB()\n",
        "    gnb.fit(x_train, y_train)\n",
        "    # Gjør prediksjoner på testsettet\n",
        "    y_pred = gnb.predict(x_test)\n",
        "\n",
        "    # Evaluerer modellens prestasjon\n",
        "    print(f\"Accuracy of simple naive Bayes: {accuracy_score(y_test, y_pred)}\")\n",
        "    print(classification_report(y_test, y_pred))\n",
        "    print(confusion_matrix(y_test, y_pred))"
      ],
      "outputs": [
        {
          "output_type": "display_data",
          "data": {
            "application/vnd.livy.statement-meta+json": {
              "spark_pool": "cd8c8f88-1104-4cc8-b9ee-c7507007e049",
              "session_id": "10",
              "statement_id": 90,
              "state": "finished",
              "livy_statement_state": "available",
              "queued_time": "2023-10-23T08:53:40.2268096Z",
              "session_start_time": null,
              "execution_start_time": "2023-10-23T08:53:40.300794Z",
              "execution_finish_time": "2023-10-23T08:53:40.6361378Z",
              "spark_jobs": {
                "numbers": {
                  "SUCCEEDED": 0,
                  "UNKNOWN": 0,
                  "RUNNING": 0,
                  "FAILED": 0
                },
                "jobs": [],
                "limit": 20,
                "rule": "ALL_DESC"
              },
              "parent_msg_id": "7100132b-8d25-46a1-a7b9-c056f0088d87"
            },
            "text/plain": "StatementMeta(cd8c8f88-1104-4cc8-b9ee-c7507007e049, 10, 90, Finished, Available)"
          },
          "metadata": {}
        }
      ],
      "execution_count": 78,
      "metadata": {
        "jupyter": {
          "source_hidden": false,
          "outputs_hidden": false
        },
        "nteract": {
          "transient": {
            "deleting": false
          }
        },
        "gather": {
          "logged": 1698051222464
        }
      }
    },
    {
      "cell_type": "code",
      "source": [
        "from sklearn.neighbors import KNeighborsClassifier\n",
        "\n",
        "# enkel K-nearest neighbor\n",
        "def kontaktkraft_incident_KNN():\n",
        "    x = df[[\"kontaktkraft\"]]\n",
        "    y = df[\"incident\"]\n",
        "    \n",
        "    #forberedelse av data\n",
        "    x_train, x_test, y_train, y_test = train_test_split(x, y, test_size=0.3, random_state=97)\n",
        "    \n",
        "    # Initialiserer og trener en KNN modell\n",
        "    knn = KNeighborsClassifier()\n",
        "    knn.fit(x_train, y_train)\n",
        "    \n",
        "    # Gjør prediksjoner på testsettet\n",
        "    y_pred = knn.predict(x_test)\n",
        "\n",
        "    # Evaluerer modellens prestasjon\n",
        "    print(f\"Accuracy of simple KNN: {accuracy_score(y_test, y_pred)}\")\n",
        "    print(classification_report(y_test, y_pred))\n",
        "    print(confusion_matrix(y_test, y_pred))"
      ],
      "outputs": [
        {
          "output_type": "display_data",
          "data": {
            "application/vnd.livy.statement-meta+json": {
              "spark_pool": "cd8c8f88-1104-4cc8-b9ee-c7507007e049",
              "session_id": "10",
              "statement_id": 91,
              "state": "finished",
              "livy_statement_state": "available",
              "queued_time": "2023-10-23T08:53:42.4161328Z",
              "session_start_time": null,
              "execution_start_time": "2023-10-23T08:53:42.4913927Z",
              "execution_finish_time": "2023-10-23T08:53:42.8581321Z",
              "spark_jobs": {
                "numbers": {
                  "SUCCEEDED": 0,
                  "UNKNOWN": 0,
                  "RUNNING": 0,
                  "FAILED": 0
                },
                "jobs": [],
                "limit": 20,
                "rule": "ALL_DESC"
              },
              "parent_msg_id": "52b1033d-21fc-4223-b0da-0892c1636252"
            },
            "text/plain": "StatementMeta(cd8c8f88-1104-4cc8-b9ee-c7507007e049, 10, 91, Finished, Available)"
          },
          "metadata": {}
        }
      ],
      "execution_count": 79,
      "metadata": {
        "jupyter": {
          "source_hidden": false,
          "outputs_hidden": false
        },
        "nteract": {
          "transient": {
            "deleting": false
          }
        },
        "gather": {
          "logged": 1698051224621
        }
      }
    },
    {
      "cell_type": "code",
      "source": [
        "from sklearn.svm import SVC\n",
        "\n",
        "def kontaktkraft_incident_svm():\n",
        "    x = df[[\"kontaktkraft\"]]\n",
        "    y = df[\"incident\"]\n",
        "    \n",
        "    #forberedelse av data\n",
        "    x_train, x_test, y_train, y_test = train_test_split(x, y, test_size=0.3, random_state=97)\n",
        "    \n",
        "    # Initialiserer og trener en enkel support vector machine modell\n",
        "    svc = SVC()\n",
        "    svc.fit(x_train, y_train)\n",
        "    \n",
        "    # Gjør prediksjoner på testsettet\n",
        "    y_pred = svc.predict(x_test)\n",
        "\n",
        "    # Evaluerer modellens prestasjon\n",
        "    print(f\"Accuracy of simple support vector machine: {accuracy_score(y_test, y_pred)}\")\n",
        "    print(classification_report(y_test, y_pred))\n",
        "    print(confusion_matrix(y_test, y_pred))"
      ],
      "outputs": [
        {
          "output_type": "display_data",
          "data": {
            "application/vnd.livy.statement-meta+json": {
              "spark_pool": "cd8c8f88-1104-4cc8-b9ee-c7507007e049",
              "session_id": "10",
              "statement_id": 92,
              "state": "finished",
              "livy_statement_state": "available",
              "queued_time": "2023-10-23T08:53:44.2890234Z",
              "session_start_time": null,
              "execution_start_time": "2023-10-23T08:53:44.3651918Z",
              "execution_finish_time": "2023-10-23T08:53:44.727832Z",
              "spark_jobs": {
                "numbers": {
                  "SUCCEEDED": 0,
                  "UNKNOWN": 0,
                  "RUNNING": 0,
                  "FAILED": 0
                },
                "jobs": [],
                "limit": 20,
                "rule": "ALL_DESC"
              },
              "parent_msg_id": "e9fb4865-c7f3-44a1-8c99-9e55edbcf9d6"
            },
            "text/plain": "StatementMeta(cd8c8f88-1104-4cc8-b9ee-c7507007e049, 10, 92, Finished, Available)"
          },
          "metadata": {}
        }
      ],
      "execution_count": 80,
      "metadata": {
        "jupyter": {
          "source_hidden": false,
          "outputs_hidden": false
        },
        "nteract": {
          "transient": {
            "deleting": false
          }
        },
        "gather": {
          "logged": 1698051226493
        }
      }
    },
    {
      "cell_type": "code",
      "source": [
        "# enkel gradientboosting\n",
        "def kontaktkraft_incident_gradientboosting():\n",
        "    x = df[[\"kontaktkraft\"]]\n",
        "    y = df[\"incident\"]\n",
        "    \n",
        "    #forberedelse av data\n",
        "    x_train, x_test, y_train, y_test = train_test_split(x, y, test_size=0.3, random_state=97)\n",
        "    \n",
        "    # Initialiserer og trener en gradient boosting modell\n",
        "    gbc = GradientBoostingClassifier(n_estimators=100, learning_rate=1.0, max_depth=1, random_state=97)\n",
        "    gbc.fit(x_train, y_train)\n",
        "    \n",
        "    # Gjør prediksjoner på testsettet\n",
        "    y_pred = gbc.predict(x_test)\n",
        "\n",
        "    # Evaluerer modellens prestasjon\n",
        "    print(f\"Accuracy of simple gradient boosting: {accuracy_score(y_test, y_pred)}\")\n",
        "    print(classification_report(y_test, y_pred))\n",
        "    print(confusion_matrix(y_test, y_pred))"
      ],
      "outputs": [
        {
          "output_type": "display_data",
          "data": {
            "application/vnd.livy.statement-meta+json": {
              "spark_pool": "cd8c8f88-1104-4cc8-b9ee-c7507007e049",
              "session_id": "10",
              "statement_id": 93,
              "state": "finished",
              "livy_statement_state": "available",
              "queued_time": "2023-10-23T08:53:46.844506Z",
              "session_start_time": null,
              "execution_start_time": "2023-10-23T08:53:46.9235973Z",
              "execution_finish_time": "2023-10-23T08:53:47.273045Z",
              "spark_jobs": {
                "numbers": {
                  "SUCCEEDED": 0,
                  "UNKNOWN": 0,
                  "RUNNING": 0,
                  "FAILED": 0
                },
                "jobs": [],
                "limit": 20,
                "rule": "ALL_DESC"
              },
              "parent_msg_id": "9a3b23d9-316b-401b-a6aa-020584627b2a"
            },
            "text/plain": "StatementMeta(cd8c8f88-1104-4cc8-b9ee-c7507007e049, 10, 93, Finished, Available)"
          },
          "metadata": {}
        }
      ],
      "execution_count": 81,
      "metadata": {
        "jupyter": {
          "source_hidden": false,
          "outputs_hidden": false
        },
        "nteract": {
          "transient": {
            "deleting": false
          }
        },
        "gather": {
          "logged": 1698051229001
        }
      }
    },
    {
      "cell_type": "code",
      "source": [
        "\n",
        "from sklearn.preprocessing import StandardScaler\n",
        "\n",
        "scaler = StandardScaler()\n",
        "columns_to_normalize = [\"kontaktkraft\",\"hastighet\",\"wind_speed\",\"wind_direction\",\"distance_to_pole\"]\n",
        "# Applying Z-score Normalization only to specified columns\n",
        "df[columns_to_normalize] = scaler.fit_transform(df[columns_to_normalize])\n",
        "\n",
        "print(df)"
      ],
      "outputs": [
        {
          "output_type": "display_data",
          "data": {
            "application/vnd.livy.statement-meta+json": {
              "spark_pool": "cd8c8f88-1104-4cc8-b9ee-c7507007e049",
              "session_id": "10",
              "statement_id": 94,
              "state": "finished",
              "livy_statement_state": "available",
              "queued_time": "2023-10-23T08:53:48.8851403Z",
              "session_start_time": null,
              "execution_start_time": "2023-10-23T08:53:48.960418Z",
              "execution_finish_time": "2023-10-23T08:53:49.3483902Z",
              "spark_jobs": {
                "numbers": {
                  "SUCCEEDED": 0,
                  "UNKNOWN": 0,
                  "RUNNING": 0,
                  "FAILED": 0
                },
                "jobs": [],
                "limit": 20,
                "rule": "ALL_DESC"
              },
              "parent_msg_id": "c143f4b8-722a-4616-9967-7487f20b93f2"
            },
            "text/plain": "StatementMeta(cd8c8f88-1104-4cc8-b9ee-c7507007e049, 10, 94, Finished, Available)"
          },
          "metadata": {}
        },
        {
          "output_type": "stream",
          "name": "stdout",
          "text": "                      timestamp                              event_id  \\\n0    2023-06-28 12:16:29.875945  03e41ff8-1569-4e59-a7d4-779d7156f654   \n1    2023-06-28 12:15:45.877945  0552ec24-65a9-4437-96b5-d7ac2ae0f5d4   \n2    2023-06-28 12:17:05.262846  06295cca-0f51-4f69-ace2-a066086be93c   \n3    2023-06-28 12:15:59.247846  2ffa9da2-449c-47b7-9624-c83cba7667fb   \n4    2023-06-28 12:17:12.551945  317320c7-ebc2-48a9-8933-17b45046289d   \n...                         ...                                   ...   \n1995 2023-06-28 12:17:12.888862  a556eac3-7f14-4e4a-9fd8-b8de67b170eb   \n1996 2023-06-28 12:15:52.376862  dd9ea3b5-c7a4-4b4b-b411-ef6445b83e90   \n1997 2023-06-28 12:16:37.056848  e7c896d1-812f-4638-97b3-00bef0edb38b   \n1998 2023-06-28 12:16:30.306848  fecceb74-b571-45eb-a27e-bad5dd69ac80   \n1999 2023-06-28 12:16:40.860848  fccb8112-deec-45ea-afd9-bd48f5a03c52   \n\n      train_id  incident  kontaktkraft  hastighet   location_type  wind_speed  \\\n0            4         0     -0.457967  -0.526922  open_landscape    1.034030   \n1            4         0     -0.347469  -0.487023  open_landscape    1.014915   \n2            6         0     -0.578529  -0.490935  open_landscape    1.093725   \n3            1         1     -2.377847   1.672907  open_landscape   -0.841185   \n4            4         0     -0.514468  -0.394448  open_landscape    0.997232   \n...        ...       ...           ...        ...             ...         ...   \n1995         8         0     -0.401038  -0.618347            town   -0.501110   \n1996         8         0     -0.366736  -0.671315            town   -0.490513   \n1997         7         0     -0.378700  -0.189300            town    0.152329   \n1998         7         0     -0.412607  -0.199384            town    0.202683   \n1999         7         0     -0.473815  -0.082944            town    0.196827   \n\n      wind_direction  distance_to_pole  location_type1  \n0           1.050178          1.115298             3.0  \n1           1.050178         -0.080263             3.0  \n2           0.272268          1.339170             3.0  \n3           1.050178          1.359953             3.0  \n4           1.050178          1.344707             3.0  \n...              ...               ...             ...  \n1995       -1.283551          1.110956             4.0  \n1996       -1.283551         -0.046640             4.0  \n1997       -1.283551          1.312347             4.0  \n1998       -1.283551          1.349518             4.0  \n1999       -1.283551          1.320876             4.0  \n\n[2000 rows x 11 columns]\n"
        }
      ],
      "execution_count": 82,
      "metadata": {
        "jupyter": {
          "source_hidden": false,
          "outputs_hidden": false
        },
        "nteract": {
          "transient": {
            "deleting": false
          }
        },
        "gather": {
          "logged": 1698051231155
        }
      }
    },
    {
      "cell_type": "code",
      "source": [
        "# multippel logistikkregresjion\n",
        "def kontaktkraft_incident_logistiskregresjon2():\n",
        "\n",
        "    x = df[[\"kontaktkraft\",\"wind_speed\",\"hastighet\",\"wind_direction\" ,\"distance_to_pole\"]]\n",
        "    y = df[\"incident\"]\n",
        "    \n",
        "    #forberedelse av data\n",
        "\n",
        "    x_train, x_test, y_train, y_test = train_test_split(x, y, test_size=0.3,random_state=97)\n",
        "    \n",
        "    # Initialiserer og trener en logistisk regresjonsmodell\n",
        "    model = LogisticRegression()\n",
        "    model.fit(x_train, y_train)\n",
        "\n",
        "    # Gjør prediksjoner på testsettet\n",
        "    y_pred = model.predict(x_test)\n",
        "\n",
        "    # Evaluerer modellens prestasjon\n",
        "    print(f\"Accuracy of multiple logistic regression: {accuracy_score(y_test, y_pred)}\")\n",
        "    print(classification_report(y_test, y_pred))\n",
        "    print(confusion_matrix(y_test, y_pred))"
      ],
      "outputs": [
        {
          "output_type": "display_data",
          "data": {
            "application/vnd.livy.statement-meta+json": {
              "spark_pool": "cd8c8f88-1104-4cc8-b9ee-c7507007e049",
              "session_id": "10",
              "statement_id": 95,
              "state": "finished",
              "livy_statement_state": "available",
              "queued_time": "2023-10-23T08:54:10.7255582Z",
              "session_start_time": null,
              "execution_start_time": "2023-10-23T08:54:10.8358862Z",
              "execution_finish_time": "2023-10-23T08:54:11.181864Z",
              "spark_jobs": {
                "numbers": {
                  "SUCCEEDED": 0,
                  "UNKNOWN": 0,
                  "RUNNING": 0,
                  "FAILED": 0
                },
                "jobs": [],
                "limit": 20,
                "rule": "ALL_DESC"
              },
              "parent_msg_id": "6c4f4ca4-9b6c-4595-a3aa-750db14ba025"
            },
            "text/plain": "StatementMeta(cd8c8f88-1104-4cc8-b9ee-c7507007e049, 10, 95, Finished, Available)"
          },
          "metadata": {}
        }
      ],
      "execution_count": 83,
      "metadata": {
        "jupyter": {
          "source_hidden": false,
          "outputs_hidden": false
        },
        "nteract": {
          "transient": {
            "deleting": false
          }
        },
        "gather": {
          "logged": 1698051252850
        }
      }
    },
    {
      "cell_type": "code",
      "source": [
        "# multippel random forest\n",
        "def kontaktkraft_incident_randomforest2():\n",
        "    x = df[[\"kontaktkraft\",\"wind_speed\",\"hastighet\",\"wind_direction\",\"distance_to_pole\"]]\n",
        "    y = df[\"incident\"]\n",
        "    \n",
        "    #forberedelse av data\n",
        "    x_train, x_test, y_train, y_test = train_test_split(x, y, test_size=0.3, random_state=97)\n",
        "    \n",
        "    # Initialiserer og trener en logistisk regresjonsmodell\n",
        "    clf = RandomForestClassifier(n_estimators=100, random_state=57)\n",
        "    clf.fit(x_train, y_train)\n",
        "    # Gjør prediksjoner på testsettet\n",
        "    y_pred = clf.predict(x_test)\n",
        "\n",
        "    # Evaluerer modellens prestasjon\n",
        "    print(f\"Accuracy of multiple random forest: {accuracy_score(y_test, y_pred)}\")\n",
        "    print(classification_report(y_test, y_pred))\n",
        "    print(confusion_matrix(y_test, y_pred))"
      ],
      "outputs": [
        {
          "output_type": "display_data",
          "data": {
            "application/vnd.livy.statement-meta+json": {
              "spark_pool": "cd8c8f88-1104-4cc8-b9ee-c7507007e049",
              "session_id": "10",
              "statement_id": 96,
              "state": "finished",
              "livy_statement_state": "available",
              "queued_time": "2023-10-23T08:54:13.2388979Z",
              "session_start_time": null,
              "execution_start_time": "2023-10-23T08:54:13.3139991Z",
              "execution_finish_time": "2023-10-23T08:54:13.6644756Z",
              "spark_jobs": {
                "numbers": {
                  "SUCCEEDED": 0,
                  "UNKNOWN": 0,
                  "RUNNING": 0,
                  "FAILED": 0
                },
                "jobs": [],
                "limit": 20,
                "rule": "ALL_DESC"
              },
              "parent_msg_id": "c1f36786-cef8-49de-9598-ffedc7e315c1"
            },
            "text/plain": "StatementMeta(cd8c8f88-1104-4cc8-b9ee-c7507007e049, 10, 96, Finished, Available)"
          },
          "metadata": {}
        }
      ],
      "execution_count": 84,
      "metadata": {
        "jupyter": {
          "source_hidden": false,
          "outputs_hidden": false
        },
        "nteract": {
          "transient": {
            "deleting": false
          }
        },
        "gather": {
          "logged": 1698051255389
        }
      }
    },
    {
      "cell_type": "code",
      "source": [
        "# multippel naive bayes\n",
        "def kontaktkraft_incident_naivebayes2():\n",
        "    x = df[[\"kontaktkraft\",\"wind_speed\",\"hastighet\",\"wind_direction\",\"train_id\"]]\n",
        "    y = df[\"incident\"]\n",
        "    \n",
        "    #forberedelse av data\n",
        "    x_train, x_test, y_train, y_test = train_test_split(x, y, test_size=0.3, random_state=97)\n",
        "    \n",
        "    # Initialiserer og trener en naive_bayes modell\n",
        "    gnb = GaussianNB()\n",
        "    gnb.fit(x_train, y_train)\n",
        "    # Gjør prediksjoner på testsettet\n",
        "    y_pred = gnb.predict(x_test)\n",
        "\n",
        "    # Evaluerer modellens prestasjon\n",
        "    print(f\"Accuracy of multiple naive Bayes: {accuracy_score(y_test, y_pred)}\")\n",
        "    print(classification_report(y_test, y_pred))\n",
        "    print(confusion_matrix(y_test, y_pred))"
      ],
      "outputs": [
        {
          "output_type": "display_data",
          "data": {
            "application/vnd.livy.statement-meta+json": {
              "spark_pool": "cd8c8f88-1104-4cc8-b9ee-c7507007e049",
              "session_id": "10",
              "statement_id": 97,
              "state": "finished",
              "livy_statement_state": "available",
              "queued_time": "2023-10-23T08:54:15.1376156Z",
              "session_start_time": null,
              "execution_start_time": "2023-10-23T08:54:15.2126445Z",
              "execution_finish_time": "2023-10-23T08:54:15.5450839Z",
              "spark_jobs": {
                "numbers": {
                  "SUCCEEDED": 0,
                  "UNKNOWN": 0,
                  "RUNNING": 0,
                  "FAILED": 0
                },
                "jobs": [],
                "limit": 20,
                "rule": "ALL_DESC"
              },
              "parent_msg_id": "c5545e9b-9b66-469f-860e-c7976232b5be"
            },
            "text/plain": "StatementMeta(cd8c8f88-1104-4cc8-b9ee-c7507007e049, 10, 97, Finished, Available)"
          },
          "metadata": {}
        }
      ],
      "execution_count": 85,
      "metadata": {
        "jupyter": {
          "source_hidden": false,
          "outputs_hidden": false
        },
        "nteract": {
          "transient": {
            "deleting": false
          }
        },
        "gather": {
          "logged": 1698051257281
        }
      }
    },
    {
      "cell_type": "code",
      "source": [
        "# multippel K-nearest neighbor\n",
        "def kontaktkraft_incident_KNN2():\n",
        "    x = df[[\"kontaktkraft\",\"wind_speed\",\"hastighet\",\"wind_direction\",\"train_id\"]]\n",
        "    y = df[\"incident\"]\n",
        "    \n",
        "    #forberedelse av data\n",
        "    x_train, x_test, y_train, y_test = train_test_split(x, y, test_size=0.3, random_state=97)\n",
        "    \n",
        "    # Initialiserer og trener en KNN modell\n",
        "    knn = KNeighborsClassifier()\n",
        "    knn.fit(x_train, y_train)\n",
        "    \n",
        "    # Gjør prediksjoner på testsettet\n",
        "    y_pred = knn.predict(x_test)\n",
        "\n",
        "    # Evaluerer modellens prestasjon\n",
        "    print(f\"Accuracy of multiple KNN: {accuracy_score(y_test, y_pred)}\")\n",
        "    print(classification_report(y_test, y_pred))\n",
        "    print(confusion_matrix(y_test, y_pred))"
      ],
      "outputs": [
        {
          "output_type": "display_data",
          "data": {
            "application/vnd.livy.statement-meta+json": {
              "spark_pool": "cd8c8f88-1104-4cc8-b9ee-c7507007e049",
              "session_id": "10",
              "statement_id": 98,
              "state": "finished",
              "livy_statement_state": "available",
              "queued_time": "2023-10-23T08:54:17.0718341Z",
              "session_start_time": null,
              "execution_start_time": "2023-10-23T08:54:17.1575405Z",
              "execution_finish_time": "2023-10-23T08:54:17.5136877Z",
              "spark_jobs": {
                "numbers": {
                  "SUCCEEDED": 0,
                  "UNKNOWN": 0,
                  "RUNNING": 0,
                  "FAILED": 0
                },
                "jobs": [],
                "limit": 20,
                "rule": "ALL_DESC"
              },
              "parent_msg_id": "3972e096-9848-48f9-9300-3188eea1d2f5"
            },
            "text/plain": "StatementMeta(cd8c8f88-1104-4cc8-b9ee-c7507007e049, 10, 98, Finished, Available)"
          },
          "metadata": {}
        }
      ],
      "execution_count": 86,
      "metadata": {
        "jupyter": {
          "source_hidden": false,
          "outputs_hidden": false
        },
        "nteract": {
          "transient": {
            "deleting": false
          }
        },
        "gather": {
          "logged": 1698051259235
        }
      }
    },
    {
      "cell_type": "code",
      "source": [
        "def kontaktkraft_incident_svm2():\n",
        "    x = df[[\"kontaktkraft\",\"wind_speed\",\"hastighet\",\"wind_direction\"]]\n",
        "    y = df[\"incident\"]\n",
        "    \n",
        "    #forberedelse av data\n",
        "    x_train, x_test, y_train, y_test = train_test_split(x, y, test_size=0.3, random_state=97)\n",
        "    \n",
        "    # Initialiserer og trener en enkel support vector machine modell\n",
        "    svc = SVC()\n",
        "    svc.fit(x_train, y_train)\n",
        "    \n",
        "    # Gjør prediksjoner på testsettet\n",
        "    y_pred = svc.predict(x_test)\n",
        "\n",
        "    # Evaluerer modellens prestasjon\n",
        "    print(f\"Accuracy of multiple support vector machine: {accuracy_score(y_test, y_pred)}\")\n",
        "    print(classification_report(y_test, y_pred))\n",
        "    print(confusion_matrix(y_test, y_pred))"
      ],
      "outputs": [
        {
          "output_type": "display_data",
          "data": {
            "application/vnd.livy.statement-meta+json": {
              "spark_pool": "cd8c8f88-1104-4cc8-b9ee-c7507007e049",
              "session_id": "10",
              "statement_id": 99,
              "state": "finished",
              "livy_statement_state": "available",
              "queued_time": "2023-10-23T08:54:19.0160822Z",
              "session_start_time": null,
              "execution_start_time": "2023-10-23T08:54:19.1142955Z",
              "execution_finish_time": "2023-10-23T08:54:19.4629507Z",
              "spark_jobs": {
                "numbers": {
                  "SUCCEEDED": 0,
                  "UNKNOWN": 0,
                  "RUNNING": 0,
                  "FAILED": 0
                },
                "jobs": [],
                "limit": 20,
                "rule": "ALL_DESC"
              },
              "parent_msg_id": "943aed54-34fb-420e-bb0c-c0aca31841a9"
            },
            "text/plain": "StatementMeta(cd8c8f88-1104-4cc8-b9ee-c7507007e049, 10, 99, Finished, Available)"
          },
          "metadata": {}
        }
      ],
      "execution_count": 87,
      "metadata": {
        "jupyter": {
          "source_hidden": false,
          "outputs_hidden": false
        },
        "nteract": {
          "transient": {
            "deleting": false
          }
        },
        "gather": {
          "logged": 1698051261252
        }
      }
    },
    {
      "cell_type": "code",
      "source": [
        "# multippel gradientboosting\n",
        "def kontaktkraft_incident_gradientboosting2():\n",
        "    x = df[[\"kontaktkraft\",\"wind_speed\",\"hastighet\",\"wind_direction\"]]\n",
        "    y = df[\"incident\"]\n",
        "    \n",
        "    #forberedelse av data\n",
        "    x_train, x_test, y_train, y_test = train_test_split(x, y, test_size=0.3, random_state=97)\n",
        "    \n",
        "    # Initialiserer og trener en gradient boosting modell\n",
        "    gbc = GradientBoostingClassifier(n_estimators=100, learning_rate=1.0, max_depth=1, random_state=97)\n",
        "    gbc.fit(x_train, y_train)\n",
        "    \n",
        "    # Gjør prediksjoner på testsettet\n",
        "    y_pred = gbc.predict(x_test)\n",
        "\n",
        "    # Evaluerer modellens prestasjon\n",
        "    print(f\"Accuracy of multiple gradient boosting: {accuracy_score(y_test, y_pred)}\")\n",
        "    print(classification_report(y_test, y_pred))\n",
        "    print(confusion_matrix(y_test, y_pred))"
      ],
      "outputs": [
        {
          "output_type": "display_data",
          "data": {
            "application/vnd.livy.statement-meta+json": {
              "spark_pool": "cd8c8f88-1104-4cc8-b9ee-c7507007e049",
              "session_id": "10",
              "statement_id": 100,
              "state": "finished",
              "livy_statement_state": "available",
              "queued_time": "2023-10-23T08:54:21.3490704Z",
              "session_start_time": null,
              "execution_start_time": "2023-10-23T08:54:21.4620607Z",
              "execution_finish_time": "2023-10-23T08:54:21.828107Z",
              "spark_jobs": {
                "numbers": {
                  "SUCCEEDED": 0,
                  "UNKNOWN": 0,
                  "RUNNING": 0,
                  "FAILED": 0
                },
                "jobs": [],
                "limit": 20,
                "rule": "ALL_DESC"
              },
              "parent_msg_id": "a7918c01-3412-4cbd-93e8-e60f68ca96ea"
            },
            "text/plain": "StatementMeta(cd8c8f88-1104-4cc8-b9ee-c7507007e049, 10, 100, Finished, Available)"
          },
          "metadata": {}
        }
      ],
      "execution_count": 88,
      "metadata": {
        "jupyter": {
          "source_hidden": false,
          "outputs_hidden": false
        },
        "nteract": {
          "transient": {
            "deleting": false
          }
        },
        "gather": {
          "logged": 1698051263599
        }
      }
    },
    {
      "cell_type": "code",
      "source": [
        "if __name__ == \"__main__\":\n",
        "    kontaktkraft_incident_logistiskregresjon()\n",
        "    kontaktkraft_incident_randomforest()\n",
        "    kontaktkraft_incident_naivebayes()\n",
        "    kontaktkraft_incident_KNN()\n",
        "    kontaktkraft_incident_svm()\n",
        "    kontaktkraft_incident_gradientboosting()\n",
        "    kontaktkraft_incident_logistiskregresjon2()\n",
        "    kontaktkraft_incident_randomforest2()\n",
        "    kontaktkraft_incident_naivebayes2()\n",
        "    kontaktkraft_incident_KNN2()\n",
        "    kontaktkraft_incident_svm2()\n",
        "    kontaktkraft_incident_gradientboosting2()"
      ],
      "outputs": [
        {
          "output_type": "display_data",
          "data": {
            "application/vnd.livy.statement-meta+json": {
              "spark_pool": "cd8c8f88-1104-4cc8-b9ee-c7507007e049",
              "session_id": "10",
              "statement_id": 57,
              "state": "finished",
              "livy_statement_state": "available",
              "queued_time": "2023-10-23T08:46:06.4676272Z",
              "session_start_time": null,
              "execution_start_time": "2023-10-23T08:46:06.5455358Z",
              "execution_finish_time": "2023-10-23T08:46:08.2498333Z",
              "spark_jobs": {
                "numbers": {
                  "SUCCEEDED": 0,
                  "UNKNOWN": 0,
                  "RUNNING": 0,
                  "FAILED": 0
                },
                "jobs": [],
                "limit": 20,
                "rule": "ALL_DESC"
              },
              "parent_msg_id": "ef126715-a8e7-41c5-9922-ecbadc0222d7"
            },
            "text/plain": "StatementMeta(cd8c8f88-1104-4cc8-b9ee-c7507007e049, 10, 57, Finished, Available)"
          },
          "metadata": {}
        },
        {
          "output_type": "stream",
          "name": "stdout",
          "text": "Accuracy of simple logistic regression: 0.9716666666666667\n              precision    recall  f1-score   support\n\n           0       0.98      0.99      0.98       559\n           1       0.83      0.73      0.78        41\n\n    accuracy                           0.97       600\n   macro avg       0.91      0.86      0.88       600\nweighted avg       0.97      0.97      0.97       600\n\n[[553   6]\n [ 11  30]]\nAccuracy of simple random forest: 0.975\n              precision    recall  f1-score   support\n\n           0       0.99      0.99      0.99       559\n           1       0.81      0.83      0.82        41\n\n    accuracy                           0.97       600\n   macro avg       0.90      0.91      0.90       600\nweighted avg       0.98      0.97      0.98       600\n\n[[551   8]\n [  7  34]]\nAccuracy of simple naive Bayes: 0.9716666666666667\n              precision    recall  f1-score   support\n\n           0       0.98      0.99      0.98       559\n           1       0.88      0.68      0.77        41\n\n    accuracy                           0.97       600\n   macro avg       0.93      0.84      0.88       600\nweighted avg       0.97      0.97      0.97       600\n\n[[555   4]\n [ 13  28]]\nAccuracy of simple KNN: 0.9783333333333334\n              precision    recall  f1-score   support\n\n           0       0.99      0.99      0.99       559\n           1       0.85      0.83      0.84        41\n\n    accuracy                           0.98       600\n   macro avg       0.92      0.91      0.91       600\nweighted avg       0.98      0.98      0.98       600\n\n[[553   6]\n [  7  34]]\nAccuracy of simple support vector machine: 0.98\n              precision    recall  f1-score   support\n\n           0       0.99      0.99      0.99       559\n           1       0.85      0.85      0.85        41\n\n    accuracy                           0.98       600\n   macro avg       0.92      0.92      0.92       600\nweighted avg       0.98      0.98      0.98       600\n\n[[553   6]\n [  6  35]]\nAccuracy of simple gradient boosting: 0.935\n              precision    recall  f1-score   support\n\n           0       0.93      1.00      0.97       559\n           1       1.00      0.05      0.09        41\n\n    accuracy                           0.94       600\n   macro avg       0.97      0.52      0.53       600\nweighted avg       0.94      0.94      0.91       600\n\n[[559   0]\n [ 39   2]]\nAccuracy of multiple logistic regression: 0.98\n              precision    recall  f1-score   support\n\n           0       0.99      0.99      0.99       559\n           1       0.85      0.85      0.85        41\n\n    accuracy                           0.98       600\n   macro avg       0.92      0.92      0.92       600\nweighted avg       0.98      0.98      0.98       600\n\n[[553   6]\n [  6  35]]\nAccuracy of multiple random forest: 0.9833333333333333\n              precision    recall  f1-score   support\n\n           0       0.99      0.99      0.99       559\n           1       0.86      0.90      0.88        41\n\n    accuracy                           0.98       600\n   macro avg       0.93      0.95      0.94       600\nweighted avg       0.98      0.98      0.98       600\n\n[[553   6]\n [  4  37]]\nAccuracy of multiple naive Bayes: 0.9766666666666667\n              precision    recall  f1-score   support\n\n           0       0.99      0.99      0.99       559\n           1       0.85      0.80      0.83        41\n\n    accuracy                           0.98       600\n   macro avg       0.92      0.90      0.91       600\nweighted avg       0.98      0.98      0.98       600\n\n[[553   6]\n [  8  33]]\nAccuracy of multiple KNN: 0.975\n              precision    recall  f1-score   support\n\n           0       0.99      0.99      0.99       559\n           1       0.81      0.83      0.82        41\n\n    accuracy                           0.97       600\n   macro avg       0.90      0.91      0.90       600\nweighted avg       0.98      0.97      0.98       600\n\n[[551   8]\n [  7  34]]\nAccuracy of multiple support vector machine: 0.9816666666666667\n              precision    recall  f1-score   support\n\n           0       0.99      0.99      0.99       559\n           1       0.83      0.93      0.87        41\n\n    accuracy                           0.98       600\n   macro avg       0.91      0.96      0.93       600\nweighted avg       0.98      0.98      0.98       600\n\n[[551   8]\n [  3  38]]\nAccuracy of multiple gradient boosting: 0.935\n              precision    recall  f1-score   support\n\n           0       0.93      1.00      0.97       559\n           1       1.00      0.05      0.09        41\n\n    accuracy                           0.94       600\n   macro avg       0.97      0.52      0.53       600\nweighted avg       0.94      0.94      0.91       600\n\n[[559   0]\n [ 39   2]]\n"
        }
      ],
      "execution_count": 45,
      "metadata": {
        "jupyter": {
          "source_hidden": false,
          "outputs_hidden": false
        },
        "nteract": {
          "transient": {
            "deleting": false
          }
        },
        "gather": {
          "logged": 1698050769949
        }
      }
    },
    {
      "cell_type": "markdown",
      "source": [
        "# 5. Evaluering av modeller.\n",
        "Incident er bare avhengig av kontaktkraft. Andre faktorer som tog hastighet, wind_speed, wind_direction pavirker ikke incident. \n",
        "Det viser at logistikkregresjon, randomforest, naive bayes, K-nearest neighbor, support vector machine passer bedre for analyse med nøyaktighet 97.3%, 97.5%, 97.2%, 97.8%, 98% enn gradientboosting med 93.5%."
      ],
      "metadata": {
        "nteract": {
          "transient": {
            "deleting": false
          }
        }
      }
    }
  ],
  "metadata": {
    "kernelspec": {
      "name": "synapse_pyspark",
      "language": "Python",
      "display_name": "Synapse PySpark"
    },
    "language_info": {
      "name": "python",
      "version": "3.8.0",
      "mimetype": "text/x-python",
      "file_extension": ".py",
      "pygments_lexer": "ipython",
      "codemirror_mode": "ipython",
      "nbconvert_exporter": "python"
    },
    "microsoft": {
      "ms_spell_check": {
        "ms_spell_check_language": "en"
      },
      "host": {
        "AzureML": {
          "notebookHasBeenCompleted": true
        }
      }
    },
    "nteract": {
      "version": "nteract-front-end@1.0.0"
    },
    "kernel_info": {
      "name": "synapse_pyspark"
    }
  },
  "nbformat": 4,
  "nbformat_minor": 2
}